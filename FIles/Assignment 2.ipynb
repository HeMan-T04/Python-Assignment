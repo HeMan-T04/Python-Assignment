{
 "cells": [
  {
   "cell_type": "markdown",
   "metadata": {},
   "source": [
    "## Assignment 2\n",
    "Q1. Write a python program to swap two numbers entered by the user. You are not allowed to use a third variable."
   ]
  },
  {
   "cell_type": "code",
   "execution_count": 2,
   "metadata": {},
   "outputs": [
    {
     "name": "stdout",
     "output_type": "stream",
     "text": [
      "Enter first number: 10\n",
      "Enter second number: 20\n",
      "Numbers before swapping:\n",
      "a=10\n",
      "b=20\n",
      "Numbers after swapping:\n",
      "a=20\n",
      "b=10\n"
     ]
    }
   ],
   "source": [
    "a=int(input(\"Enter first number: \"))\n",
    "b=int(input(\"Enter second number: \"))\n",
    "print(f\"Numbers before swapping:\\na={a}\\nb={b}\")\n",
    "a,b=b,a\n",
    "print(f\"Numbers after swapping:\\na={a}\\nb={b}\")"
   ]
  },
  {
   "cell_type": "markdown",
   "metadata": {},
   "source": [
    "Q2. Write a python program to find out the sum of two numbers without using ‘+’ operator."
   ]
  },
  {
   "cell_type": "code",
   "execution_count": 3,
   "metadata": {},
   "outputs": [
    {
     "name": "stdout",
     "output_type": "stream",
     "text": [
      "Enter first number: 140\n",
      "Enter second number: 3\n",
      "a+b=143\n"
     ]
    }
   ],
   "source": [
    "a=int(input(\"Enter first number: \"))\n",
    "b=int(input(\"Enter second number: \"))\n",
    "sum=a-(-b)\n",
    "print(f\"a+b={sum}\")"
   ]
  },
  {
   "cell_type": "markdown",
   "metadata": {},
   "source": [
    "Q3. Write a python program to accept a number from user and find out division by 2 without using ‘/’ or ‘//’ operator."
   ]
  },
  {
   "cell_type": "code",
   "execution_count": 4,
   "metadata": {},
   "outputs": [
    {
     "name": "stdout",
     "output_type": "stream",
     "text": [
      "Enter a number: 10\n",
      "10 divided by 2 is 5.0\n"
     ]
    }
   ],
   "source": [
    "a=int(input(\"Enter a number: \"))\n",
    "print(f\"{a} divided by 2 is {a*0.5}\")"
   ]
  },
  {
   "cell_type": "markdown",
   "metadata": {},
   "source": [
    "Q4. Write a python program to accept a temperature in Fahrenheit degree and convert it into Centigrade degrees and print both temperatures."
   ]
  },
  {
   "cell_type": "code",
   "execution_count": 5,
   "metadata": {},
   "outputs": [
    {
     "name": "stdout",
     "output_type": "stream",
     "text": [
      "Enter temperature in Farenheit: 45\n",
      "45.0 °F is  7.22 °C\n"
     ]
    }
   ],
   "source": [
    "ftmp=float(input(\"Enter temperature in Farenheit: \"))\n",
    "ctmp= ((ftmp-32)*5)/9\n",
    "print(ftmp,\"°F is \",\"%.2f\" %ctmp,\"°C\")"
   ]
  },
  {
   "cell_type": "markdown",
   "metadata": {},
   "source": [
    "Q5. A grocery shop decides to give its customers a discount of 10% on the total purchases if it exceeds Rs. 1000. The quantity purchased and price per item is entered through the keyboard. Write a python program to calculate the final sales bill."
   ]
  },
  {
   "cell_type": "code",
   "execution_count": 7,
   "metadata": {},
   "outputs": [
    {
     "name": "stdout",
     "output_type": "stream",
     "text": [
      "Enter the number of items purchased: 1\n",
      "Enter the quantity of the item: 1000\n",
      "Enter the price per item: 10\n",
      "Hurray!! you have scored 10% discount\n",
      "Your final sales Bill is 9000.0\n"
     ]
    }
   ],
   "source": [
    "item=int(input(\"Enter the number of items purchased: \"))\n",
    "total=0\n",
    "for i in range(1,item+1):\n",
    "    qty=int(input(\"Enter the quantity of the item: \"))\n",
    "    price=int(input(\"Enter the price per item: \"))\n",
    "    total=total+(qty*price)\n",
    "if(total>=1000):\n",
    "    total=total-(total*0.1)\n",
    "    print(\"Hurray!! you have scored 10% discount\")\n",
    "else:\n",
    "    pass\n",
    "print(f\"Your final sales Bill is {total}\")"
   ]
  },
  {
   "cell_type": "markdown",
   "metadata": {},
   "source": [
    "Q6. A company insures its drivers in the following cases:<br>✓If the driver is married.<br>✓If the driver is unmarried, male & above 30 years of age.<br>✓If the driver is unmarried, female & above 25 years of age<br>✓In all other cases, the driver is not insured. If the marital status, sex and age of the driver are the inputs.<br>Write a program to determine whether the driver should be insured or not."
   ]
  },
  {
   "cell_type": "code",
   "execution_count": 8,
   "metadata": {},
   "outputs": [
    {
     "name": "stdout",
     "output_type": "stream",
     "text": [
      "Enter your marital status(M|U): U\n",
      "Enter your gender(M|F|O): F\n",
      "Enter your age: 25\n",
      "You are not insured!!\n"
     ]
    }
   ],
   "source": [
    "mar=input(\"Enter your marital status(M|U): \").upper()\n",
    "gen=input(\"Enter your gender(M|F|O): \").upper()\n",
    "age=int(input(\"Enter your age: \"))\n",
    "flag=0\n",
    "if(mar==\"M\"):\n",
    "    flag=0\n",
    "elif(mar==\"U\" and gen==\"M\" and age>30):\n",
    "    flag=0  \n",
    "elif(mar==\"U\" and gen==\"F\" and age>25):\n",
    "    flag=0\n",
    "elif(gen==\"O\" or age<=30 or age<=25):\n",
    "    flag=1\n",
    "else:\n",
    "    print(\"Wrong input!!\")\n",
    "    flag=-1\n",
    "if (flag==0):\n",
    "    print(\"You are insured!!\")\n",
    "elif(flag==1):\n",
    "    print(\"You are not insured!!\")"
   ]
  },
  {
   "cell_type": "markdown",
   "metadata": {},
   "source": [
    "Q7. Write a Python program to multiply user defined number by 2 without using * operator."
   ]
  },
  {
   "cell_type": "code",
   "execution_count": 9,
   "metadata": {},
   "outputs": [
    {
     "name": "stdout",
     "output_type": "stream",
     "text": [
      "Enter a number: 5\n",
      "5 multiplied by 2 is 10.0\n"
     ]
    }
   ],
   "source": [
    "a=int(input(\"Enter a number: \"))\n",
    "print(f\"{a} multiplied by 2 is {a/0.5}\")"
   ]
  },
  {
   "cell_type": "markdown",
   "metadata": {},
   "source": [
    "Q8. Write a program using while loop that asks the user for a number, and prints acountdown from that number to zero."
   ]
  },
  {
   "cell_type": "code",
   "execution_count": 10,
   "metadata": {},
   "outputs": [
    {
     "name": "stdout",
     "output_type": "stream",
     "text": [
      "Enter a number: 10\n",
      "10 9 8 7 6 5 4 3 2 1 0 "
     ]
    }
   ],
   "source": [
    "a=int(input(\"Enter a number: \"))\n",
    "while(a>=0):\n",
    "    print(a,end=\" \")\n",
    "    a-=1"
   ]
  },
  {
   "cell_type": "markdown",
   "metadata": {},
   "source": [
    "Q9. Write a Python program to print the following patterns<br>\n",
    "<table>\n",
    "<tr>\n",
    "<td>\n",
    "0<br>\n",
    "01<br>\n",
    "012<br>\n",
    "0123<br>\n",
    "01234<br>\n",
    "</td>\n",
    "<br>\n",
    "<td>\n",
    "01234<br>\n",
    "0123<br>\n",
    "012<br>\n",
    "01<br>\n",
    "0<br>\n",
    "</td>\n",
    "<br>\n",
    "<td align=\"right\">\n",
    "0<br>\n",
    "01<br>\n",
    "012<br>\n",
    "0123<br>\n",
    "01234<br>\n",
    "</td>\n",
    "<td align=\"right\">\n",
    "01234<br>\n",
    "0123<br>\n",
    "012<br>\n",
    "01<br>\n",
    "0<br>\n",
    "</td>\n",
    "<td>\n",
    "1 2 3 4 5<br> 2 2 3 4 5<br> 3 3 3 4 5<br> 4 4 4 4 5<br> 5 5 5 5 5<br></td>\n",
    "<td>\n",
    "1 <br> 2  4 <br> 3  6  9<br>4  8  12  16<br>  5  10  15  20  25<br></td>\n",
    "<td align=\"center\">\n",
    "*<br>* * *<br>* * * * *<br>* * * * * * *<br>* * * * *<br>* * *<br>*</td>\n",
    "<td align=\"right\">\n",
    "* <br>* *<br> * * *<br> * * * *<br> * * * * *<br> * * * *<br> * * *<br> * *<br> *</td>\n",
    "<td align=\"left\">\n",
    "* <br>* *<br> * * *<br> * * * *<br> * * * * *<br> * * * *<br> * * *<br> * *<br> *</td>\n",
    "</tr>\n",
    "</table>\n"
   ]
  },
  {
   "cell_type": "code",
   "execution_count": 11,
   "metadata": {},
   "outputs": [
    {
     "name": "stdout",
     "output_type": "stream",
     "text": [
      "0\n",
      "01\n",
      "012\n",
      "0123\n",
      "01234\n",
      "\n",
      "\n",
      "01234\r\n",
      "0123\r\n",
      "012\r\n",
      "01\r\n",
      "0\r\n",
      "     0\n",
      "    01\n",
      "   012\n",
      "  0123\n",
      " 01234\n",
      "\n",
      "\n",
      "01234\r\n",
      " 0123\r\n",
      "  012\r\n",
      "   01\r\n",
      "    0\r\n",
      "\n",
      "\n",
      "1 2 3 4 5 \n",
      "2 2 3 4 5 \n",
      "3 3 3 4 5 \n",
      "4 4 4 4 5 \n",
      "5 5 5 5 5 \n",
      "\n",
      "\n",
      "1 \n",
      "2 4 \n",
      "3 6 9 \n",
      "4 8 12 16 \n",
      "5 10 15 20 25 \n",
      "\n",
      "\n",
      "     *\n",
      "    ***\n",
      "   *****\n",
      "  *******\n",
      "   *****\n",
      "    ***\n",
      "     *\n",
      "\n",
      "\n",
      "        * \n",
      "      * * \n",
      "    * * * \n",
      "  * * * * \n",
      "* * * * * \n",
      "  * * * * \n",
      "    * * * \n",
      "      * * \n",
      "        * \n",
      "          \n",
      "* \r\n",
      "* * \r\n",
      "* * * \r\n",
      "* * * * \r\n",
      "* * * * * \r\n",
      "* * * * \r\n",
      "* * * \r\n",
      "* * \r\n",
      "* \r\n",
      "\r\n"
     ]
    }
   ],
   "source": [
    "rows = 5\n",
    "for i in range(1, rows + 1):\n",
    "    for j in range(0, i):\n",
    "        print(j, end='')\n",
    "    print('')\n",
    "print(\"\\n\")\n",
    "rows = 5\n",
    "for i in range(rows, 0, -1):\n",
    "    for j in range(0, i ):\n",
    "        print(j, end='')\n",
    "    print(\"\\r\")\n",
    "rows = 6\n",
    "for i in range(1, rows):\n",
    "    num = 0\n",
    "    for j in range(rows, 0, -1):\n",
    "        if j > i:\n",
    "            print(\" \", end='')\n",
    "        else:\n",
    "            print(num, end='')\n",
    "            num += 1\n",
    "    print(\"\")\n",
    "print(\"\\n\")\n",
    "rows=5\n",
    "for i in range (rows, 0, -1):\n",
    "    num = 0\n",
    "    for j in range(rows, 0, -1):\n",
    "        if j > i:\n",
    "            print(\" \", end='')\n",
    "        else:\n",
    "            print(num, end='')\n",
    "            num += 1\n",
    "    print(\"\\r\")\n",
    "print(\"\\n\")\n",
    "rows = 5\n",
    "for i in range(1, rows + 1):\n",
    "    for j in range(1, rows + 1):\n",
    "        if j <= i:\n",
    "            print(i, end=' ')\n",
    "        else:\n",
    "            print(j, end=' ')\n",
    "    print()\n",
    "print(\"\\n\")\n",
    "rows = 5\n",
    "for i in range(1, rows + 1):\n",
    "    for j in range(1, i + 1):\n",
    "        square = i * j\n",
    "        print(i * j, end=' ')\n",
    "    print()\n",
    "print(\"\\n\")\n",
    "h = 4\n",
    "for x in range(h):\n",
    "    print(\" \" * (h - x), \"*\" * (2*x + 1))\n",
    "for x in range(h - 2, -1, -1):\n",
    "    print(\" \" * (h - x), \"*\" * (2*x + 1))\n",
    "print(\"\\n\")\n",
    "rows = 5\n",
    "i = 1\n",
    "while i <= rows:\n",
    "    j = i\n",
    "    while j < rows:\n",
    "        # display space\n",
    "        print(' ', end=' ')\n",
    "        j += 1\n",
    "    k = 1\n",
    "    while k <= i:\n",
    "        print('*', end=' ')\n",
    "        k += 1\n",
    "    print()\n",
    "    i += 1\n",
    "\n",
    "i = rows\n",
    "while i >= 1:\n",
    "    j = i\n",
    "    while j <= rows:\n",
    "        print(' ', end=' ')\n",
    "        j += 1\n",
    "    k = 1\n",
    "    while k < i:\n",
    "        print('*', end=' ')\n",
    "        k += 1\n",
    "    print('')\n",
    "    i -= 1\n",
    "rows = 5\n",
    "for i in range(0, rows):\n",
    "    for j in range(0, i + 1):\n",
    "        print(\"*\", end=' ')\n",
    "    print(\"\\r\")\n",
    "\n",
    "for i in range(rows, 0, -1):\n",
    "    for j in range(0, i - 1):\n",
    "        print(\"*\", end=' ')\n",
    "    print(\"\\r\")"
   ]
  },
  {
   "cell_type": "markdown",
   "metadata": {},
   "source": [
    "Q10. Write a Python program to find the factorial value of any number entered through the keyboard"
   ]
  },
  {
   "cell_type": "code",
   "execution_count": 12,
   "metadata": {},
   "outputs": [
    {
     "name": "stdout",
     "output_type": "stream",
     "text": [
      "Enter a number: 5\n",
      "Factorial of 5 is 120\n"
     ]
    }
   ],
   "source": [
    "import math\n",
    "a=int(input(\"Enter a number: \"))\n",
    "print(f\"Factorial of {a} is {math.factorial(a)}\")"
   ]
  },
  {
   "cell_type": "markdown",
   "metadata": {},
   "source": [
    "Name: Hemant Kathuria<br>\n",
    "Class: BCA 3C<br>\n",
    "Enrollment No.: 15917702021"
   ]
  }
 ],
 "metadata": {
  "kernelspec": {
   "display_name": "Python 3 (ipykernel)",
   "language": "python",
   "name": "python3"
  },
  "language_info": {
   "codemirror_mode": {
    "name": "ipython",
    "version": 3
   },
   "file_extension": ".py",
   "mimetype": "text/x-python",
   "name": "python",
   "nbconvert_exporter": "python",
   "pygments_lexer": "ipython3",
   "version": "3.10.7"
  },
  "vscode": {
   "interpreter": {
    "hash": "a66f8d00d3d123911ed7c904d6179a309da76b45da50889379c4e5157a11582c"
   }
  }
 },
 "nbformat": 4,
 "nbformat_minor": 2
}
