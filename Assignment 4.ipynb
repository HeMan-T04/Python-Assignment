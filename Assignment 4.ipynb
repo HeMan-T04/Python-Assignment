{
 "cells": [
  {
   "cell_type": "markdown",
   "metadata": {},
   "source": [
    "## Assignment 4\n",
    "Q1. Write a Python program to accept a string and count the total number of vowels in the input string."
   ]
  },
  {
   "cell_type": "code",
   "execution_count": 3,
   "metadata": {},
   "outputs": [
    {
     "name": "stdout",
     "output_type": "stream",
     "text": [
      "No vowels in the string\n"
     ]
    }
   ],
   "source": [
    "v=[\"a\",\"e\",\"i\",\"o\",\"u\",\"A\",\"E\",\"I\",\"O\",\"U\"]\n",
    "str1=input(\"Enter the string: \")\n",
    "c=0\n",
    "for i in str1:\n",
    "    if i in v:\n",
    "        c=c+1\n",
    "if c==0:\n",
    "    print(\"No vowels in the string\")\n",
    "else:\n",
    "    print(f\"Number of vowels in the given string are {c}\")\n",
    "    "
   ]
  },
  {
   "cell_type": "markdown",
   "metadata": {},
   "source": [
    "Q2. Write a Python program to accept five words as input and print the sentence formed by these words after adding a space between consecutive words and a full stop at the end. "
   ]
  },
  {
   "cell_type": "code",
   "execution_count": 18,
   "metadata": {},
   "outputs": [
    {
     "name": "stdout",
     "output_type": "stream",
     "text": [
      "Factorial of 5: 120\n"
     ]
    }
   ],
   "source": [
    "def fact(a):\n",
    "    if a==1 or a==0:\n",
    "        return 1\n",
    "    return (a * fact(a-1))\n",
    "a=int(input(\"Enter the number: \"))\n",
    "f=fact(a)\n",
    "print(f\"Factorial of {a}: {f}\")"
   ]
  },
  {
   "cell_type": "markdown",
   "metadata": {},
   "source": [
    "Q3. Write a Python function to generate the Fibonacci series up to nth number"
   ]
  },
  {
   "cell_type": "code",
   "execution_count": 27,
   "metadata": {},
   "outputs": [
    {
     "name": "stdout",
     "output_type": "stream",
     "text": [
      "Fibonacci Series: 0 1 1 2 3 "
     ]
    }
   ],
   "source": [
    "def fib(i):\n",
    "    if i <= 1:\n",
    "        return i\n",
    "    else:\n",
    "        return (fib(i - 1) + fib(i - 2))\n",
    "num=int(input(\"Enter the number:\"))\n",
    "if num <=0:\n",
    "    print(\"Please enter a Positive Number\")\n",
    "else:\n",
    "    print(\"Fibonacci Series:\", end=\" \")\n",
    "for i in range(num):\n",
    "    print(fib(i), end=\" \")"
   ]
  },
  {
   "cell_type": "markdown",
   "metadata": {},
   "source": [
    "Q4. Write a Python function that accepts a string and find out how many characters are in upper case letters and lower case."
   ]
  },
  {
   "cell_type": "code",
   "execution_count": 35,
   "metadata": {},
   "outputs": [
    {
     "name": "stdout",
     "output_type": "stream",
     "text": [
      "Number of uppercase letters : 2\n",
      "Number of lowercase letters : 3\n"
     ]
    }
   ],
   "source": [
    "def upperlower(str):\n",
    "    u=0\n",
    "    l=0\n",
    "    for i in str:\n",
    "        if i.isupper():\n",
    "            u+=1\n",
    "        elif i.islower():\n",
    "            l+=1\n",
    "    print(f\"Number of uppercase letters : {u}\\nNumber of lowercase letters : {l}\") \n",
    "str=input(\"Enter the string: \")\n",
    "upperlower(str)"
   ]
  },
  {
   "cell_type": "markdown",
   "metadata": {},
   "source": [
    "Q5. Write a Python function that takes a number as an argument and displays all prime numbers up to nth number."
   ]
  },
  {
   "cell_type": "code",
   "execution_count": 38,
   "metadata": {},
   "outputs": [
    {
     "name": "stdout",
     "output_type": "stream",
     "text": [
      "2 3 4 5 6 7 8 9 10 11 12 13 14 15 16 17 18 19 20 21 22 23 24 25 26 27 28 29 30 31 32 33 34 35 36 37 38 39 40 41 42 43 44 45 46 47 48 49 50 "
     ]
    }
   ],
   "source": [
    "def prime(n):\n",
    "    for i in range(2,n+1):\n",
    "        for j in range(2,n+1):\n",
    "            if j%i==0:\n",
    "                break\n",
    "        print(i,end=\" \")\n",
    "a=int(input(\"Enter the number: \"))\n",
    "prime(a)"
   ]
  },
  {
   "cell_type": "markdown",
   "metadata": {},
   "source": [
    "Q6. Write a Python function sum(start, end) that adds all the integers between the start and end value (inclusive) and returns the total sum."
   ]
  },
  {
   "cell_type": "code",
   "execution_count": 39,
   "metadata": {},
   "outputs": [
    {
     "name": "stdout",
     "output_type": "stream",
     "text": [
      "Sum of integers between 0 and 10 is 55\n"
     ]
    }
   ],
   "source": [
    "def sum(start,end):\n",
    "    sum=0\n",
    "    for i in range(start,end+1):\n",
    "        sum=sum+i\n",
    "    return(sum)\n",
    "start,end=int(input(\"Enter Start: \")),int(input(\"Enter End: \"))\n",
    "s=sum(start,end)\n",
    "print(f\"Sum of integers between {start} and {end} is {s}\")"
   ]
  },
  {
   "cell_type": "markdown",
   "metadata": {},
   "source": [
    "Q7. ABC  store  plans  to  give  festival  discounts  to  its  customers.  The  store  management  has decided to give discount on the following criteria: <br>\n",
    "<table>\n",
    "<tr>\n",
    "<th>Shopping Amount</th>\n",
    "<th>Discount Offered</th>\n",
    "</tr>\n",
    "<tr>\n",
    "<td>>=500 and &lt1000</td>             \n",
    "<td>5%</td>\n",
    "</tr>\n",
    "<tr>\n",
    "<td>>=1000 and &lt2000</td>             \n",
    "<td>10%</td>\n",
    "</tr>\n",
    "<tr>\n",
    "<td>>=2000</td>             \n",
    "<td>15%</td>\n",
    "</tr>\n",
    "</table>\n",
    "Write a program to generate the bill of ABC Store."
   ]
  },
  {
   "cell_type": "code",
   "execution_count": 41,
   "metadata": {},
   "outputs": [
    {
     "name": "stdout",
     "output_type": "stream",
     "text": [
      "You have scored 15% discount\n",
      "Your total amount is 8972.6\n"
     ]
    }
   ],
   "source": [
    "amt=int(input(\"Enter the shopping amount \"))\n",
    "if amt>=500 and amt<1000:\n",
    "    amt=amt-(amt*0.05)\n",
    "    print(\"You have scored 5% discount\")\n",
    "elif amt>=1000 and amt<2000:\n",
    "    amt=amt-(amt*0.1)\n",
    "    print(\"You have scored 10% discount\")\n",
    "elif amt>=2000:\n",
    "    amt=amt-(amt*0.15)\n",
    "    print(\"You have scored 15% discount\")\n",
    "print(f\"Your total amount is {amt}\")"
   ]
  },
  {
   "cell_type": "markdown",
   "metadata": {},
   "source": [
    "Q8. An  additional  discount  of  5% is  given  to  customers  who  are  the  members  of  the  store. Create a program using user defined function that accepts the shopping amount as a parameter and calculates discount and net amount payable on the basis of the following conditions:<br>Net Payable Amount = Total Shopping Amount –Discount."
   ]
  },
  {
   "cell_type": "code",
   "execution_count": 42,
   "metadata": {},
   "outputs": [
    {
     "name": "stdout",
     "output_type": "stream",
     "text": [
      "You have scored 5% discount\n",
      "Net amount payable : 950.0\n"
     ]
    }
   ],
   "source": [
    "def dis(amt):\n",
    "    f=input(\"Are you a member of the store(Yes|No): \").capitalize()\n",
    "    if f==\"Yes\":\n",
    "        amt=amt-(amt*0.05)\n",
    "        print(\"You have scored 5% discount\")\n",
    "        return(amt)\n",
    "    elif f==\"No\":\n",
    "        return(amt)\n",
    "amt=int(input(\"Enter the Shopping amount: \"))\n",
    "print(f\"Net amount payable : {dis(amt)}\")"
   ]
  },
  {
   "cell_type": "markdown",
   "metadata": {},
   "source": [
    "Q9.Write a Python program that uses a user defined function that accepts name and gender (as M for Male, F for Female) and prefixes Mr. /Ms. on the basis of the gender."
   ]
  },
  {
   "cell_type": "code",
   "execution_count": 46,
   "metadata": {},
   "outputs": [
    {
     "name": "stdout",
     "output_type": "stream",
     "text": [
      "Hello, Mrs.Hello\n"
     ]
    }
   ],
   "source": [
    "\n",
    "Name=input(\"Enter your name: \")\n",
    "gen=input(\"Enter your Gender as M for Male and F For female: \").upper()\n",
    "if gen==\"M\":\n",
    "    print(f\"Hello, Mr.{Name}\")\n",
    "elif gen==\"F\":\n",
    "    print(f\"Hello, Ms.{Name}\")\n",
    "else:\n",
    "    print(\"Wrong input!!\")"
   ]
  },
  {
   "cell_type": "markdown",
   "metadata": {},
   "source": [
    "Q10. Create a module for the functionalities of simple calculator."
   ]
  },
  {
   "cell_type": "code",
   "execution_count": 2,
   "metadata": {},
   "outputs": [
    {
     "name": "stdout",
     "output_type": "stream",
     "text": [
      "MENU:\n",
      "1)Sum\n",
      "2)Subtract\n",
      "3)Multiply\n",
      "4)Division\n",
      "\n",
      "Sum of 3,3 is 6\n",
      "Thank you!!\n"
     ]
    }
   ],
   "source": [
    "def sum(a,b):\n",
    "    c=a+b\n",
    "    print(f\"Sum of {a},{b} is {c}\")\n",
    "def sub(a,b):\n",
    "    c=a-b\n",
    "    print(f\"Diference of {a},{b} is {c}\")\n",
    "def mul(a,b):\n",
    "    c=a*b\n",
    "    print(f\"{c} is the result of multiplying {a} and {b}.\")\n",
    "def div(a,b):\n",
    "    c=a/b\n",
    "    print(f\"Qoutient of {a},{b} is {c}\")\n",
    "while (True):\n",
    "    print(\"MENU:\\n1)Sum\\n2)Subtract\\n3)Multiply\\n4)Division\\n\")\n",
    "    ch=int(input(\"Enter your choice\"))\n",
    "    a,b=int(input(\"Enter the First Number: \")),int(input(\"Enter the Second Number: \"))\n",
    "    if ch==1:\n",
    "        sum(a,b)\n",
    "    elif ch==2:\n",
    "        sub(a,b)\n",
    "    elif ch==3:\n",
    "        mul(a,b)\n",
    "    elif ch==4:\n",
    "        div(a,b)\n",
    "    else:\n",
    "        print(\"Wrong choice!!\")\n",
    "    i=input(\"Do you want to continue (Y|N): \").upper()\n",
    "    if i==\"Y\":\n",
    "        pass\n",
    "    elif i==\"N\":\n",
    "        print(\"Thank you!!\")\n",
    "        break\n",
    "    else:\n",
    "        print(\"Wrong choice!!\")"
   ]
  },
  {
   "cell_type": "markdown",
   "metadata": {},
   "source": [
    "Name: Hemant Kathuria<br>\n",
    "Class: BCA 3C<br>\n",
    "Enrollment No.: 15917702021"
   ]
  }
 ],
 "metadata": {
  "kernelspec": {
   "display_name": "Python 3 (ipykernel)",
   "language": "python",
   "name": "python3"
  },
  "language_info": {
   "codemirror_mode": {
    "name": "ipython",
    "version": 3
   },
   "file_extension": ".py",
   "mimetype": "text/x-python",
   "name": "python",
   "nbconvert_exporter": "python",
   "pygments_lexer": "ipython3",
   "version": "3.10.7"
  },
  "vscode": {
   "interpreter": {
    "hash": "a66f8d00d3d123911ed7c904d6179a309da76b45da50889379c4e5157a11582c"
   }
  }
 },
 "nbformat": 4,
 "nbformat_minor": 2
}
