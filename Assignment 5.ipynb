{
 "cells": [
  {
   "cell_type": "markdown",
   "metadata": {},
   "source": [
    "## Assignment 5\n",
    "Q1. Program for dictionary of names of students and a list of their marks in 4 subjects. Create another dictionary from this dictionary that has name of the students and their total marks. Find out the topper and his/her marks."
   ]
  },
  {
   "cell_type": "code",
   "execution_count": 1,
   "metadata": {},
   "outputs": [
    {
     "name": "stdout",
     "output_type": "stream",
     "text": [
      "Enter the number of students: 2\n",
      "Enter the name of the student: Hemant\n",
      "Enter the marks of the student in 4 subjects (out of 100):  100 100 100 100\n",
      "Enter the name of the student: Chaitanya\n",
      "Enter the marks of the student in 4 subjects (out of 100):  80 80 80 80\n",
      "Topper is Hemant and his/her marks is 400\n"
     ]
    }
   ],
   "source": [
    "n=int(input(\"Enter the number of students:\"))\n",
    "d={}\n",
    "d1={}\n",
    "for i in range(n):\n",
    "    name=input(\"Enter the name of the student:\")\n",
    "    marks=list(map(int,input(\"Enter the marks of the student in 4 subjects (out of 100): \").split()))\n",
    "    d[name]=marks\n",
    "for i in d.keys():\n",
    "    d1[i]=sum(d[i])\n",
    "max1=max(d1.values())\n",
    "for i in d1:\n",
    "    if d1[i]==max1:\n",
    "        print(f\"Topper is {i} and his/her marks is {max1}\")"
   ]
  },
  {
   "cell_type": "markdown",
   "metadata": {},
   "source": [
    "Q2. Write  a  Python  program  to  sort  a  dictionary  in  ascending/descending  order  by key  and ascending/descending order by value."
   ]
  },
  {
   "cell_type": "code",
   "execution_count": 2,
   "metadata": {},
   "outputs": [
    {
     "name": "stdout",
     "output_type": "stream",
     "text": [
      "Dictionary in ascending order by key: {'A': 3, 'B': 1, 'C': 4, 'D': 2}\n",
      "Dictionary in descending order by key: {'D': 2, 'C': 4, 'B': 1, 'A': 3}\n",
      "Dictionary in ascending order by value: {'B': 1, 'D': 2, 'A': 3, 'C': 4}\n",
      "Dictionary in descending order by value: {'C': 4, 'A': 3, 'D': 2, 'B': 1}\n"
     ]
    }
   ],
   "source": [
    "d={\"B\":1,\"A\":3,\"D\":2,\"C\":4}\n",
    "d1={}\n",
    "def key(v):\n",
    "    for i in d.keys():\n",
    "        if d[i]==v:\n",
    "            return i\n",
    "for i in sorted(d.keys()):\n",
    "    d1[i]=d[i]\n",
    "print(f\"Dictionary in ascending order by key: {d1}\")\n",
    "d1.clear()\n",
    "for i in sorted(d.keys(),reverse=True):\n",
    "    d1[i]=d[i]\n",
    "print(f\"Dictionary in descending order by key: {d1}\")\n",
    "d1.clear()\n",
    "for i in sorted(d.values()):\n",
    "    d1[key(i)]=d[key(i)]\n",
    "print(f\"Dictionary in ascending order by value: {d1}\")\n",
    "d1.clear()\n",
    "for i in sorted(d.values(),reverse=True):\n",
    "    d1[key(i)]=d[key(i)]\n",
    "print(f\"Dictionary in descending order by value: {d1}\")\n",
    "d1.clear()"
   ]
  },
  {
   "cell_type": "markdown",
   "metadata": {},
   "source": [
    "Q3. Write  a  Python  program  to  create  two  dictionaries  and  concatenate  them  to create  third dictionary."
   ]
  },
  {
   "cell_type": "code",
   "execution_count": 3,
   "metadata": {},
   "outputs": [
    {
     "name": "stdout",
     "output_type": "stream",
     "text": [
      "Enter the number of entries:  2\n",
      "Enter the key:  101\n",
      "Enter the value:  Hemant\n",
      "Enter the key:  102\n",
      "Enter the value:  Chaitanya\n",
      "{'101': 'Hemant', '102': 'Chaitanya'}\n",
      "Enter the number of entries:  1\n",
      "Enter the key:  103\n",
      "Enter the value:  Nidhi\n",
      "{'103': 'Nidhi'}\n",
      "{'101': 'Hemant', '102': 'Chaitanya', '103': 'Nidhi'}\n"
     ]
    }
   ],
   "source": [
    "d1,d2,d3={},{},{}\n",
    "def accept(d):\n",
    "    n=int(input(\"Enter the number of entries: \"))\n",
    "    for i in range(n):\n",
    "        key=input(\"Enter the key: \")\n",
    "        val=input(\"Enter the value: \")\n",
    "        d[key]=val\n",
    "    print(d)\n",
    "def concat(d1,d2,d3):\n",
    "    d3={**d1,**d2}\n",
    "    print(d3)\n",
    "accept(d1)\n",
    "accept(d2)\n",
    "concat(d1,d2,d3)"
   ]
  },
  {
   "cell_type": "markdown",
   "metadata": {},
   "source": [
    "Q4. Write a Python program to check whether an element exists within a tuple?"
   ]
  },
  {
   "cell_type": "code",
   "execution_count": 2,
   "metadata": {},
   "outputs": [
    {
     "name": "stdout",
     "output_type": "stream",
     "text": [
      "Enter the element to be searched:  4\n",
      "Element found\n"
     ]
    }
   ],
   "source": [
    "t=(1,2,3,4,5,6,7,8,9,10)\n",
    "e=int(input(\"Enter the element to be searched: \"))\n",
    "for i in t:\n",
    "    if i==e:\n",
    "        print(\"Element found\")\n",
    "        break\n",
    "else:\n",
    "    print(\"Element not found\")"
   ]
  },
  {
   "cell_type": "markdown",
   "metadata": {},
   "source": [
    "Q5. Write a Python program calculate the product, multiplying all the numbers of a given tuple."
   ]
  },
  {
   "cell_type": "code",
   "execution_count": 3,
   "metadata": {},
   "outputs": [
    {
     "name": "stdout",
     "output_type": "stream",
     "text": [
      "[6, 14, 24, 36, 50]\n"
     ]
    }
   ],
   "source": [
    "t1=(1,2,3,4,5)\n",
    "t2=(6,7,8,9,10)\n",
    "t3=[]\n",
    "for i in range(len(t1)):\n",
    "    t3.append(t1[i]*t2[i])\n",
    "print(t3)"
   ]
  },
  {
   "cell_type": "markdown",
   "metadata": {},
   "source": [
    "Q6. Write a Python program to reverse a tuple."
   ]
  },
  {
   "cell_type": "code",
   "execution_count": 4,
   "metadata": {},
   "outputs": [
    {
     "name": "stdout",
     "output_type": "stream",
     "text": [
      "(10, 9, 8, 7, 6, 5, 4, 3, 2, 1)\n"
     ]
    }
   ],
   "source": [
    "t=(1,2,3,4,5,6,7,8,9,10)\n",
    "t1=list(t)\n",
    "t1.reverse()\n",
    "t=tuple(t1)\n",
    "print(t)"
   ]
  },
  {
   "cell_type": "markdown",
   "metadata": {},
   "source": [
    "Q7. Write  a  Python  program  to  read  a  text  file  and display  the  number  vowels  /consonants /uppercase /lowercase characters in the file."
   ]
  },
  {
   "cell_type": "code",
   "execution_count": 5,
   "metadata": {},
   "outputs": [
    {
     "name": "stdout",
     "output_type": "stream",
     "text": [
      "Number of lowercase characters: 1261\n",
      "Number of uppercase characters: 17\n",
      "Number of vowels: 598\n",
      "Number of consonants: 680\n"
     ]
    }
   ],
   "source": [
    "file=open(\"hello.txt\",\"r\")\n",
    "def cnt():\n",
    "    l_count,u_count,v_count,c_count=0,0,0,0\n",
    "    for i in file.read():\n",
    "        if i.islower():\n",
    "            l_count+=1\n",
    "        if i.isupper():\n",
    "            u_count+=1\n",
    "        if i in \"aeiouAEIOU\":\n",
    "            v_count+=1\n",
    "        if i not in \"aeiouAEIOU\" and i.isalpha():\n",
    "            c_count+=1\n",
    "    print(f\"Number of lowercase characters: {l_count}\")\n",
    "    print(f\"Number of uppercase characters: {u_count}\")\n",
    "    print(f\"Number of vowels: {v_count}\")\n",
    "    print(f\"Number of consonants: {c_count}\") \n",
    "cnt()\n",
    "file.close()"
   ]
  },
  {
   "cell_type": "markdown",
   "metadata": {},
   "source": [
    "Q8. Write a Python program to create a text file “intro.txt” and ask the user to write a single line text by user input.<br>• Write a Python program to create a text file “MyFile.txt” and ask the user to write separate 3 lines with three input statements from the user.<br>• Write  a  Python  program  to  read  the  contents  of  both  the  files  created  in  the above (4 & 5) programs and merge the contents into “merge.txt”. Avoid using the close() function to close the files."
   ]
  },
  {
   "cell_type": "code",
   "execution_count": 6,
   "metadata": {},
   "outputs": [
    {
     "name": "stdout",
     "output_type": "stream",
     "text": [
      "Enter the text to be appended:  Hello\n",
      "Enter the text to be appended:  World\n",
      "Enter the text to be appended:  I am\n",
      "Enter the text to be appended:  Hemant\n",
      "Hello\n",
      "World\n",
      "I am\n",
      "Hemant\n",
      "\n"
     ]
    }
   ],
   "source": [
    "with open(\"intro.txt\",\"w+\") as f1:\n",
    "    f1.writelines([input(\"Enter the text to be appended: \"),\"\\n\"])\n",
    "    with open(\"MyFile.txt\",\"w+\") as f2:\n",
    "        l=[]\n",
    "        for i in range(3):\n",
    "            l.append(input(\"Enter the text to be appended: \"))\n",
    "            l.append(\"\\n\")\n",
    "        f2.writelines(l)\n",
    "        with open(\"merge.txt\",\"w+\") as f3:\n",
    "            f1.seek(0)\n",
    "            f2.seek(0)\n",
    "            f3.writelines([f1.read(),f2.read()])\n",
    "            f3.seek(0)\n",
    "            print(f3.read())"
   ]
  },
  {
   "cell_type": "markdown",
   "metadata": {},
   "source": [
    "Q9.Write a Python program to know the cursor position and print the text according to the specifications given below:<br>⚫Print the initial position<br>⚫Move the cursor to 4th position<br>⚫Display next 5 characters<br>⚫Move the cursor to the next 10 characters<br>⚫Print the current cursor position<br>⚫Print next 10 characters from the current cursor position"
   ]
  },
  {
   "cell_type": "code",
   "execution_count": 7,
   "metadata": {},
   "outputs": [
    {
     "name": "stdout",
     "output_type": "stream",
     "text": [
      "0\n",
      "b'm ips'\n",
      "19\n",
      "b'it amet co'\n"
     ]
    }
   ],
   "source": [
    "f=open(\"hello.txt\",\"rb\")\n",
    "print(f.tell())\n",
    "f.seek(4)\n",
    "print(f.read(5))\n",
    "f.seek(10,1)\n",
    "print(f.tell())\n",
    "print(f.read(10))\n",
    "f.close()"
   ]
  },
  {
   "cell_type": "markdown",
   "metadata": {},
   "source": [
    "Q10. Create a binary file with name and roll number. Search for a given roll number and display the name, if not found display appropriate message."
   ]
  },
  {
   "cell_type": "code",
   "execution_count": 8,
   "metadata": {},
   "outputs": [
    {
     "name": "stdout",
     "output_type": "stream",
     "text": [
      "How many records you want to create : 2\n",
      "Enter Roll No:  101\n",
      "Enter Name:  Hemant\n",
      "Enter Roll No:  102\n",
      "Enter Name:  Chaitanya\n",
      "Enter a Rollno to be Search:  102\n",
      "Record Found\n",
      "Roll NO: 102\n",
      "Name: Chaitanya\n"
     ]
    }
   ],
   "source": [
    "\n",
    "import pickle\n",
    "\n",
    "def  Writerecord(sroll,sname):\n",
    "    with open ('StudentRecord1.dat','wb') as Myfile:\n",
    "        srecord={\"SROLL\":sroll,\"SNAME\":sname}        \n",
    "        pickle.dump(srecord,Myfile)\n",
    "def Input():\n",
    "    n=int(input(\"How many records you want to create :\"))\n",
    "    for ctr in range(n):\n",
    "        sroll=int(input(\"Enter Roll No: \"))\n",
    "        sname=input(\"Enter Name: \")\n",
    "        Writerecord(sroll,sname)\n",
    "        \n",
    "def SearchRecord(roll):\n",
    "    with open ('StudentRecord1.dat','rb') as Myfile:\n",
    "        while True:\n",
    "            try:\n",
    "                rec=pickle.load(Myfile)\n",
    "                if rec['SROLL']==roll:\n",
    "                    print(\"Record Found\")\n",
    "                    print(\"Roll NO:\",rec['SROLL'])\n",
    "                    print(\"Name:\",rec['SNAME'])\n",
    "\n",
    "                else:\n",
    "                    print(\"Record not found..............\")\n",
    "                    break\n",
    "            except EOFError:\n",
    "                break\n",
    "def main():\n",
    "        Input()\n",
    "        r=int(input(\"Enter a Rollno to be Search: \"))\n",
    "        SearchRecord(r)\n",
    "main()"
   ]
  },
  {
   "cell_type": "markdown",
   "metadata": {},
   "source": [
    "Q11. Write a program to extract all prime numbers from one dimensional array."
   ]
  },
  {
   "cell_type": "code",
   "execution_count": 9,
   "metadata": {},
   "outputs": [
    {
     "name": "stdout",
     "output_type": "stream",
     "text": [
      "[1, 2, 3, 5, 7]\n"
     ]
    }
   ],
   "source": [
    "import numpy as np\n",
    "def prime(n):\n",
    "    for i in range(2,n):\n",
    "        if n%i==0:\n",
    "            return False\n",
    "    return True\n",
    "a=np.array([1,2,3,4,5,6,7,8,9,10])\n",
    "b=[]\n",
    "for i in a:\n",
    "    if prime(i):\n",
    "        b.append(i)\n",
    "print(b)"
   ]
  },
  {
   "cell_type": "markdown",
   "metadata": {},
   "source": [
    "Q12. Write a program to create two array and store 5 ones in first and 5 tens in second array and store the sum of both arrays in third array."
   ]
  },
  {
   "cell_type": "code",
   "execution_count": 39,
   "metadata": {},
   "outputs": [
    {
     "name": "stdout",
     "output_type": "stream",
     "text": [
      "[11. 11. 11. 11. 11.]\n"
     ]
    }
   ],
   "source": [
    "import numpy as np\n",
    "a=np.ones(5)\n",
    "b=np.ones(5)*10\n",
    "c=a+b\n",
    "print(c)"
   ]
  },
  {
   "cell_type": "markdown",
   "metadata": {},
   "source": [
    "Q13. Write a menu driven program for a single dimension array to perform following functions given below:<br>1)Maximum element<br>2)Minimum element<br>3)Sum of all the elements<br>4)Mean of an array<br>5)Variance of an array<br>6)Median of an array"
   ]
  },
  {
   "cell_type": "code",
   "execution_count": 11,
   "metadata": {},
   "outputs": [
    {
     "name": "stdout",
     "output_type": "stream",
     "text": [
      "MENU:\n",
      "1)Maximum element\n",
      "2)Minimum element\n",
      "3)Sum of all the elements\n",
      "4)Mean of an array\n",
      "5)Variance of an array\n",
      "6)Median of an array\n",
      "7)Exit\n"
     ]
    },
    {
     "name": "stdout",
     "output_type": "stream",
     "text": [
      "Enter your choice:  1\n"
     ]
    },
    {
     "name": "stdout",
     "output_type": "stream",
     "text": [
      "Maximum element:  10\n",
      "MENU:\n",
      "1)Maximum element\n",
      "2)Minimum element\n",
      "3)Sum of all the elements\n",
      "4)Mean of an array\n",
      "5)Variance of an array\n",
      "6)Median of an array\n",
      "7)Exit\n"
     ]
    },
    {
     "name": "stdout",
     "output_type": "stream",
     "text": [
      "Enter your choice:  2\n"
     ]
    },
    {
     "name": "stdout",
     "output_type": "stream",
     "text": [
      "Minimum element:  1\n",
      "MENU:\n",
      "1)Maximum element\n",
      "2)Minimum element\n",
      "3)Sum of all the elements\n",
      "4)Mean of an array\n",
      "5)Variance of an array\n",
      "6)Median of an array\n",
      "7)Exit\n"
     ]
    },
    {
     "name": "stdout",
     "output_type": "stream",
     "text": [
      "Enter your choice:  3\n"
     ]
    },
    {
     "name": "stdout",
     "output_type": "stream",
     "text": [
      "Sum of all the elements:  55\n",
      "MENU:\n",
      "1)Maximum element\n",
      "2)Minimum element\n",
      "3)Sum of all the elements\n",
      "4)Mean of an array\n",
      "5)Variance of an array\n",
      "6)Median of an array\n",
      "7)Exit\n"
     ]
    },
    {
     "name": "stdout",
     "output_type": "stream",
     "text": [
      "Enter your choice:  4\n"
     ]
    },
    {
     "name": "stdout",
     "output_type": "stream",
     "text": [
      "Mean of an array:  5.5\n",
      "MENU:\n",
      "1)Maximum element\n",
      "2)Minimum element\n",
      "3)Sum of all the elements\n",
      "4)Mean of an array\n",
      "5)Variance of an array\n",
      "6)Median of an array\n",
      "7)Exit\n"
     ]
    },
    {
     "name": "stdout",
     "output_type": "stream",
     "text": [
      "Enter your choice:  5\n"
     ]
    },
    {
     "name": "stdout",
     "output_type": "stream",
     "text": [
      "Variance of an array:  8.25\n",
      "MENU:\n",
      "1)Maximum element\n",
      "2)Minimum element\n",
      "3)Sum of all the elements\n",
      "4)Mean of an array\n",
      "5)Variance of an array\n",
      "6)Median of an array\n",
      "7)Exit\n"
     ]
    },
    {
     "name": "stdout",
     "output_type": "stream",
     "text": [
      "Enter your choice:  6\n"
     ]
    },
    {
     "name": "stdout",
     "output_type": "stream",
     "text": [
      "Median of an array:  5.5\n",
      "MENU:\n",
      "1)Maximum element\n",
      "2)Minimum element\n",
      "3)Sum of all the elements\n",
      "4)Mean of an array\n",
      "5)Variance of an array\n",
      "6)Median of an array\n",
      "7)Exit\n"
     ]
    },
    {
     "name": "stdout",
     "output_type": "stream",
     "text": [
      "Enter your choice:  7\n"
     ]
    }
   ],
   "source": [
    "import numpy as np\n",
    "def max(a):\n",
    "    m=a[0]\n",
    "    for i in a:\n",
    "        if i>m:\n",
    "            m=i\n",
    "    return m\n",
    "def min(a):\n",
    "    m=a[0]\n",
    "    for i in a:\n",
    "        if i<m:\n",
    "            m=i\n",
    "    return m\n",
    "def sum(a):\n",
    "    s=0\n",
    "    for i in a:\n",
    "        s+=i\n",
    "    return s\n",
    "\n",
    "def mean(a):\n",
    "    return sum(a)/len(a)\n",
    "def var(a):\n",
    "    m=mean(a)\n",
    "    s=0\n",
    "    for i in a:\n",
    "        s+=(i-m)**2\n",
    "    return s/len(a)\n",
    "def median(a):\n",
    "    a.sort()\n",
    "    if len(a)%2==0:\n",
    "        return (a[len(a)//2]+a[len(a)//2-1])/2\n",
    "    else:\n",
    "        return a[len(a)//2]\n",
    "a=np.array([1,2,3,4,5,6,7,8,9,10])\n",
    "while True:\n",
    "    print(\"MENU:\")\n",
    "    print(\"1)Maximum element\")\n",
    "    print(\"2)Minimum element\")\n",
    "    print(\"3)Sum of all the elements\")\n",
    "    print(\"4)Mean of an array\")\n",
    "    print(\"5)Variance of an array\")\n",
    "    print(\"6)Median of an array\")\n",
    "    print(\"7)Exit\")\n",
    "    ch=int(input(\"Enter your choice: \"))\n",
    "    if ch==1:\n",
    "        print(\"Maximum element: \",max(a))\n",
    "    elif ch==2:\n",
    "        print(\"Minimum element: \",min(a))\n",
    "    elif ch==3:\n",
    "        print(\"Sum of all the elements: \",sum(a))\n",
    "    elif ch==4:\n",
    "        print(\"Mean of an array: \",mean(a))\n",
    "    elif ch==5:\n",
    "        print(\"Variance of an array: \",var(a))\n",
    "    elif ch==6:\n",
    "        print(\"Median of an array: \",median(a))\n",
    "    else:\n",
    "        break\n"
   ]
  },
  {
   "cell_type": "markdown",
   "metadata": {},
   "source": [
    "Q14. Write a program to create 9 × 9 matrix in which the elements in the alternaterow (i.e. odd rows) will be equal to 1s and other 0s."
   ]
  },
  {
   "cell_type": "code",
   "execution_count": 2,
   "metadata": {},
   "outputs": [
    {
     "name": "stdout",
     "output_type": "stream",
     "text": [
      "[[1. 1. 1. 1. 1. 1. 1. 1. 1.]\n",
      " [0. 0. 0. 0. 0. 0. 0. 0. 0.]\n",
      " [1. 1. 1. 1. 1. 1. 1. 1. 1.]\n",
      " [0. 0. 0. 0. 0. 0. 0. 0. 0.]\n",
      " [1. 1. 1. 1. 1. 1. 1. 1. 1.]\n",
      " [0. 0. 0. 0. 0. 0. 0. 0. 0.]\n",
      " [1. 1. 1. 1. 1. 1. 1. 1. 1.]\n",
      " [0. 0. 0. 0. 0. 0. 0. 0. 0.]\n",
      " [1. 1. 1. 1. 1. 1. 1. 1. 1.]]\n"
     ]
    }
   ],
   "source": [
    "import numpy as np\n",
    "a=np.zeros((9,9))\n",
    "for i in range(0,9,2):\n",
    "    a[i]=1\n",
    "print(a)\n"
   ]
  },
  {
   "cell_type": "markdown",
   "metadata": {},
   "source": [
    "Q15. Create data of your choice and plot pie chart and bar chart with it. "
   ]
  },
  {
   "cell_type": "code",
   "execution_count": 42,
   "metadata": {},
   "outputs": [
    {
     "data": {
      "image/png": "[encoded data removed]",
      "text/plain": [
       "<Figure size 640x480 with 1 Axes>"
      ]
     },
     "metadata": {},
     "output_type": "display_data"
    },
    {
     "data": {
      "image/png": "[encoded data removed]",
      "text/plain": [
       "<Figure size 640x480 with 1 Axes>"
      ]
     },
     "metadata": {},
     "output_type": "display_data"
    }
   ],
   "source": [
    "#Q15. Create data of your choice and plot pie chart and bar chart with it. \n",
    "import matplotlib.pyplot as plt\n",
    "import numpy as np\n",
    "a=np.array([1,2,3,4,5,6,7,8,9,10])\n",
    "plt.pie(a)\n",
    "plt.show()\n",
    "plt.bar(a,a)\n",
    "plt.show()"
   ]
  },
  {
   "cell_type": "markdown",
   "metadata": {},
   "source": [
    "Name: Hemant Kathuria<br>\n",
    "Class: BCA 3C<br>\n",
    "Enrollment No.: 15917702021"
   ]
  }
 ],
 "metadata": {
  "kernelspec": {
   "display_name": "Python 3 (ipykernel)",
   "language": "python",
   "name": "python3"
  },
  "language_info": {
   "codemirror_mode": {
    "name": "ipython",
    "version": 3
   },
   "file_extension": ".py",
   "mimetype": "text/x-python",
   "name": "python",
   "nbconvert_exporter": "python",
   "pygments_lexer": "ipython3",
   "version": "3.10.4"
  },
  "vscode": {
   "interpreter": {
    "hash": "3ad933181bd8a04b432d3370b9dc3b0662ad032c4dfaa4e4f1596c548f763858"
   }
  }
 },
 "nbformat": 4,
 "nbformat_minor": 4
}
