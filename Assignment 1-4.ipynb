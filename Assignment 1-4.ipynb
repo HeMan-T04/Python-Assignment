{
 "cells": [
  {
   "cell_type": "markdown",
   "metadata": {},
   "source": [
    "## Assignment 1-4\n",
    "Q1. Write a program to enter two integers, two floating numbers and then perform all arithmetic operations on them. "
   ]
  },
  {
   "cell_type": "code",
   "execution_count": 1,
   "metadata": {},
   "outputs": [
    {
     "name": "stdout",
     "output_type": "stream",
     "text": [
      "Addition of two integers: 4\n",
      "Subtraction of two integers: 0\n",
      "Multiplication of two integers: 4\n",
      "Division of two integers: 1.0\n",
      "Addition of two floating numbers: 5.0\n",
      "Subtraction of two floating numbers: 0.0\n",
      "Multiplication of two floating numbers: 6.25\n",
      "Division of two floating numbers: 1.0\n"
     ]
    }
   ],
   "source": [
    "a,b=int(input(\"Enter the first integer:\")),int(input(\"Enter the second integer:\"))\n",
    "c,d=float(input(\"Enter the first floating number:\")),float(input(\"Enter the second floating number:\"))\n",
    "print(\"Addition of two integers:\",a+b)\n",
    "print(\"Subtraction of two integers:\",a-b)\n",
    "print(\"Multiplication of two integers:\",a*b)\n",
    "print(\"Division of two integers:\",a/b)\n",
    "print(\"Addition of two floating numbers:\",c+d)\n",
    "print(\"Subtraction of two floating numbers:\",c-d)\n",
    "print(\"Multiplication of two floating numbers:\",c*d)\n",
    "print(\"Division of two floating numbers:\",c/d)"
   ]
  },
  {
   "cell_type": "markdown",
   "metadata": {},
   "source": [
    "Q2. Write a program to check whether a number is an Armstrong number or not. "
   ]
  },
  {
   "cell_type": "code",
   "execution_count": 4,
   "metadata": {},
   "outputs": [
    {
     "name": "stdout",
     "output_type": "stream",
     "text": [
      "153 is an Armstrong number\n"
     ]
    }
   ],
   "source": [
    "a=int(input(\"Enter the number:\"))\n",
    "b=a\n",
    "c=0\n",
    "while a>0:\n",
    "    d=a%10\n",
    "    c=c+d**3\n",
    "    a=a//10\n",
    "if b==c:\n",
    "    print(f\"{b} is an Armstrong number\")\n",
    "else:\n",
    "    print(f\"{b} is not an Armstrong number\")"
   ]
  },
  {
   "cell_type": "markdown",
   "metadata": {},
   "source": [
    "Q3. Write a program to print the sum of all the primes between two ranges. "
   ]
  },
  {
   "cell_type": "code",
   "execution_count": 7,
   "metadata": {},
   "outputs": [
    {
     "name": "stdout",
     "output_type": "stream",
     "text": [
      "Sum of prime numbers between 1 and 6 is 10\n"
     ]
    }
   ],
   "source": [
    "a=int(input(\"Enter the first number:\"))\n",
    "b=int(input(\"Enter the second number:\"))\n",
    "sum=0\n",
    "for i in range(a,b+1):\n",
    "    if i>1:\n",
    "        for j in range(2,i):\n",
    "            if i%j==0:\n",
    "                break\n",
    "        else:\n",
    "            sum=sum+i\n",
    "print(f\"Sum of prime numbers between {a} and {b} is {sum}\")"
   ]
  },
  {
   "cell_type": "markdown",
   "metadata": {},
   "source": [
    "Q4. Write a program to swap two strings. "
   ]
  },
  {
   "cell_type": "code",
   "execution_count": 8,
   "metadata": {},
   "outputs": [
    {
     "name": "stdout",
     "output_type": "stream",
     "text": [
      "Strings before swap\n",
      "a=Hello \n",
      "b=world\n",
      "Strings after swap\n",
      "a=world\n",
      "b=Hello \n"
     ]
    }
   ],
   "source": [
    "a,b=input(\"Enter the First string: \"),input(\"Ener the second string: \")\n",
    "print(f\"Strings before swap\\na={a}\\nb={b}\")\n",
    "a,b=b,a\n",
    "print(f\"Strings after swap\\na={a}\\nb={b}\")"
   ]
  },
  {
   "cell_type": "markdown",
   "metadata": {},
   "source": [
    "Q5.Write a menu driven program to accept two strings from the user and perform the various functions using user defined functions. "
   ]
  },
  {
   "cell_type": "code",
   "execution_count": 2,
   "metadata": {},
   "outputs": [
    {
     "name": "stdout",
     "output_type": "stream",
     "text": [
      "\n",
      "MENU\n",
      "1.Concatenate two strings\n",
      "2.Length of two strings\n",
      "3.Copy of two strings\n",
      "4.Reverse of two strings\n",
      "5.Substring of two strings\n",
      "6.Palindrome of two strings\n",
      "7.Upper case of two strings\n",
      "8.Lower case of two strings\n",
      "9.Swap two strings\n",
      "10.Exit\n",
      "\n",
      "Concatenated string is HelloWorld\n",
      "\n",
      "MENU\n",
      "1.Concatenate two strings\n",
      "2.Length of two strings\n",
      "3.Copy of two strings\n",
      "4.Reverse of two strings\n",
      "5.Substring of two strings\n",
      "6.Palindrome of two strings\n",
      "7.Upper case of two strings\n",
      "8.Lower case of two strings\n",
      "9.Swap two strings\n",
      "10.Exit\n",
      "\n",
      "Length of first string is 5\n",
      "Length of second string is 5\n",
      "\n",
      "MENU\n",
      "1.Concatenate two strings\n",
      "2.Length of two strings\n",
      "3.Copy of two strings\n",
      "4.Reverse of two strings\n",
      "5.Substring of two strings\n",
      "6.Palindrome of two strings\n",
      "7.Upper case of two strings\n",
      "8.Lower case of two strings\n",
      "9.Swap two strings\n",
      "10.Exit\n",
      "\n",
      "Copy of first string is Hello\n",
      "Copy of second string is World\n",
      "\n",
      "MENU\n",
      "1.Concatenate two strings\n",
      "2.Length of two strings\n",
      "3.Copy of two strings\n",
      "4.Reverse of two strings\n",
      "5.Substring of two strings\n",
      "6.Palindrome of two strings\n",
      "7.Upper case of two strings\n",
      "8.Lower case of two strings\n",
      "9.Swap two strings\n",
      "10.Exit\n",
      "\n",
      "Reverse of first string is olleH\n",
      "Reverse of second string is dlroW\n",
      "\n",
      "MENU\n",
      "1.Concatenate two strings\n",
      "2.Length of two strings\n",
      "3.Copy of two strings\n",
      "4.Reverse of two strings\n",
      "5.Substring of two strings\n",
      "6.Palindrome of two strings\n",
      "7.Upper case of two strings\n",
      "8.Lower case of two strings\n",
      "9.Swap two strings\n",
      "10.Exit\n",
      "\n",
      "Substring of first string is ello\n",
      "Substring of second string is orld\n",
      "\n",
      "MENU\n",
      "1.Concatenate two strings\n",
      "2.Length of two strings\n",
      "3.Copy of two strings\n",
      "4.Reverse of two strings\n",
      "5.Substring of two strings\n",
      "6.Palindrome of two strings\n",
      "7.Upper case of two strings\n",
      "8.Lower case of two strings\n",
      "9.Swap two strings\n",
      "10.Exit\n",
      "\n",
      "Hello is not a palindrome\n",
      "World is not a palindrome\n",
      "\n",
      "MENU\n",
      "1.Concatenate two strings\n",
      "2.Length of two strings\n",
      "3.Copy of two strings\n",
      "4.Reverse of two strings\n",
      "5.Substring of two strings\n",
      "6.Palindrome of two strings\n",
      "7.Upper case of two strings\n",
      "8.Lower case of two strings\n",
      "9.Swap two strings\n",
      "10.Exit\n",
      "\n",
      "Upper case of first string is HELLO\n",
      "Upper case of second string is WORLD\n",
      "\n",
      "MENU\n",
      "1.Concatenate two strings\n",
      "2.Length of two strings\n",
      "3.Copy of two strings\n",
      "4.Reverse of two strings\n",
      "5.Substring of two strings\n",
      "6.Palindrome of two strings\n",
      "7.Upper case of two strings\n",
      "8.Lower case of two strings\n",
      "9.Swap two strings\n",
      "10.Exit\n",
      "\n",
      "Lower case of first string is hello\n",
      "Lower case of second string is world\n",
      "\n",
      "MENU\n",
      "1.Concatenate two strings\n",
      "2.Length of two strings\n",
      "3.Copy of two strings\n",
      "4.Reverse of two strings\n",
      "5.Substring of two strings\n",
      "6.Palindrome of two strings\n",
      "7.Upper case of two strings\n",
      "8.Lower case of two strings\n",
      "9.Swap two strings\n",
      "10.Exit\n",
      "\n",
      "Strings before swap\n",
      "str1=Hello\n",
      "str2=World\n",
      "Strings after swap\n",
      "str1=World\n",
      "str2=Hello\n",
      "\n",
      "MENU\n",
      "1.Concatenate two strings\n",
      "2.Length of two strings\n",
      "3.Copy of two strings\n",
      "4.Reverse of two strings\n",
      "5.Substring of two strings\n",
      "6.Palindrome of two strings\n",
      "7.Upper case of two strings\n",
      "8.Lower case of two strings\n",
      "9.Swap two strings\n",
      "10.Exit\n",
      "\n",
      "Thank you\n"
     ]
    }
   ],
   "source": [
    "#Write a menu driven program to accept two strings from the user and perform the various functions using user defined functions. \n",
    "str1=input(\"Enter the first string: \")\n",
    "str2=input(\"Enter the second string: \")\n",
    "def concat():\n",
    "    print(f\"Concatenated string is {str1+str2}\")\n",
    "def length():\n",
    "    print(f\"Length of first string is {len(str1)}\")\n",
    "    print(f\"Length of second string is {len(str2)}\")\n",
    "def copy():\n",
    "    print(f\"Copy of first string is {str1}\")\n",
    "    print(f\"Copy of second string is {str2}\")\n",
    "def reverse():\n",
    "    print(f\"Reverse of first string is {str1[::-1]}\")\n",
    "    print(f\"Reverse of second string is {str2[::-1]}\")\n",
    "def substring():\n",
    "    print(f\"Substring of first string is {str1[1:]}\")\n",
    "    print(f\"Substring of second string is {str2[1:]}\")\n",
    "def palindrome():\n",
    "    if str1==str1[::-1]:\n",
    "        print(f\"{str1} is a palindrome\")\n",
    "    else:\n",
    "        print(f\"{str1} is not a palindrome\")\n",
    "    if str2==str2[::-1]:\n",
    "        print(f\"{str2} is a palindrome\")\n",
    "    else:\n",
    "        print(f\"{str2} is not a palindrome\")\n",
    "def upper():\n",
    "    print(f\"Upper case of first string is {str1.upper()}\")\n",
    "    print(f\"Upper case of second string is {str2.upper()}\")\n",
    "def lower():\n",
    "    print(f\"Lower case of first string is {str1.lower()}\")\n",
    "    print(f\"Lower case of second string is {str2.lower()}\")\n",
    "def swap(str1,str2):\n",
    "    print(f\"Strings before swap\\nstr1={str1}\\nstr2={str2}\")\n",
    "    str1,str2=str2,str1\n",
    "    print(f\"Strings after swap\\nstr1={str1}\\nstr2={str2}\")\n",
    "def exit():\n",
    "    print(\"Thank you\")\n",
    "while True:\n",
    "    print(\"\\nMENU\\n1.Concatenate two strings\\n2.Length of two strings\\n3.Copy of two strings\\n4.Reverse of two strings\\n5.Substring of two strings\\n6.Palindrome of two strings\\n7.Upper case of two strings\\n8.Lower case of two strings\\n9.Swap two strings\\n10.Exit\\n\")\n",
    "    ch=int(input(\"Enter your choice: \"))\n",
    "    if ch==1:\n",
    "        concat()\n",
    "    elif ch==2:\n",
    "        length()\n",
    "    elif ch==3:\n",
    "        copy()\n",
    "    elif ch==4:\n",
    "        reverse()\n",
    "    elif ch==5:\n",
    "        substring()\n",
    "    elif ch==6:\n",
    "        palindrome()\n",
    "    elif ch==7:\n",
    "        upper()\n",
    "    elif ch==8:\n",
    "        lower()\n",
    "    elif ch==9:\n",
    "        swap(str1,str2)\n",
    "    elif ch==10:\n",
    "        exit()\n",
    "        break\n",
    "    else:\n",
    "        print(\"Invalid choice\")\n",
    "    "
   ]
  },
  {
   "cell_type": "markdown",
   "metadata": {},
   "source": [
    "Q6. Write a program to find smallest and largest number in a list."
   ]
  },
  {
   "cell_type": "code",
   "execution_count": 1,
   "metadata": {},
   "outputs": [
    {
     "name": "stdout",
     "output_type": "stream",
     "text": [
      "List is [1, 2, 3]\n",
      "Smallest number is 1\n",
      "Largest number is 3\n"
     ]
    }
   ],
   "source": [
    "list1=[]\n",
    "n=int(input(\"Enter the number of elements: \"))\n",
    "for i in range(n):\n",
    "    list1.append(int(input(\"Enter the element: \")))\n",
    "print(f\"List is {list1}\")\n",
    "print(f\"Smallest number is {min(list1)}\")\n",
    "print(f\"Largest number is {max(list1)}\")"
   ]
  },
  {
   "cell_type": "markdown",
   "metadata": {},
   "source": [
    "Q7. Create a dictionary whose keys are month names and whose values are the number of days in the corresponding months. <br>1)Ask the user to enter a month name and use the dictionary to tell them how many days are in the month.<br>2)Print out all keys in the alphabetically order<br>3)Print out all the months with 31 days<br>4)Print out the key value pairs sorted by number of days in each month "
   ]
  },
  {
   "cell_type": "code",
   "execution_count": 2,
   "metadata": {},
   "outputs": [
    {
     "name": "stdout",
     "output_type": "stream",
     "text": [
      "MENU\n",
      "1.How Many days are in month\n",
      "2.Print all keys in alphabetical order\n",
      "3.Print all months with 31 days\n",
      "4.Print key value pairs sorted by number of days in each month\n",
      "5.Exit\n",
      "June has 30 days\n",
      "MENU\n",
      "1.How Many days are in month\n",
      "2.Print all keys in alphabetical order\n",
      "3.Print all months with 31 days\n",
      "4.Print key value pairs sorted by number of days in each month\n",
      "5.Exit\n",
      "Keys in alphabetical order are: \n",
      "April\n",
      "August\n",
      "December\n",
      "February\n",
      "January\n",
      "July\n",
      "June\n",
      "March\n",
      "May\n",
      "November\n",
      "October\n",
      "September\n",
      "MENU\n",
      "1.How Many days are in month\n",
      "2.Print all keys in alphabetical order\n",
      "3.Print all months with 31 days\n",
      "4.Print key value pairs sorted by number of days in each month\n",
      "5.Exit\n",
      "Months with 31 days are: \n",
      "January\n",
      "March\n",
      "May\n",
      "July\n",
      "August\n",
      "October\n",
      "December\n",
      "MENU\n",
      "1.How Many days are in month\n",
      "2.Print all keys in alphabetical order\n",
      "3.Print all months with 31 days\n",
      "4.Print key value pairs sorted by number of days in each month\n",
      "5.Exit\n",
      "Key value pairs sorted by number of days in each month are: \n",
      "February 28\n",
      "April 30\n",
      "June 30\n",
      "September 30\n",
      "November 30\n",
      "January 31\n",
      "March 31\n",
      "May 31\n",
      "July 31\n",
      "August 31\n",
      "October 31\n",
      "December 31\n",
      "MENU\n",
      "1.How Many days are in month\n",
      "2.Print all keys in alphabetical order\n",
      "3.Print all months with 31 days\n",
      "4.Print key value pairs sorted by number of days in each month\n",
      "5.Exit\n"
     ]
    }
   ],
   "source": [
    "dict1={\"January\":31,\"February\":28,\"March\":31,\"April\":30,\"May\":31,\"June\":30,\"July\":31,\"August\":31,\"September\":30,\"October\":31,\"November\":30,\"December\":31}\n",
    "while True:\n",
    "    print(\"MENU\\n1.How Many days are in month\\n2.Print all keys in alphabetical order\\n3.Print all months with 31 days\\n4.Print key value pairs sorted by number of days in each month\\n5.Exit\")\n",
    "    ch=int(input(\"Enter your choice: \"))\n",
    "    if ch==1:\n",
    "        month=input(\"Enter the month name: \").capitalize()\n",
    "        print(f\"{month} has {dict1[month]} days\")\n",
    "    elif ch==2:\n",
    "        print(\"Keys in alphabetical order are: \")\n",
    "        for i in sorted(dict1):\n",
    "            print(i)\n",
    "    elif ch==3:\n",
    "        print(\"Months with 31 days are: \")\n",
    "        for i in dict1:\n",
    "            if dict1[i]==31:\n",
    "                print(i)\n",
    "    elif ch==4:\n",
    "        print(\"Key value pairs sorted by number of days in each month are: \")\n",
    "        for i in sorted(dict1,key=dict1.get):\n",
    "            print(i,dict1[i])\n",
    "    elif ch==5:\n",
    "        break\n",
    "    else:\n",
    "        print(\"Invalid choice\")\n",
    "    "
   ]
  },
  {
   "cell_type": "markdown",
   "metadata": {},
   "source": [
    "Q8. Make a list of first 10 letters of the alphabet, then use the slicing to do the following operations: <br>1)Print the first 3 letters of the list <br>2)Print any 3 letters from the middle <br>3)Print the letter from any particular index to the end of the list "
   ]
  },
  {
   "cell_type": "code",
   "execution_count": 4,
   "metadata": {},
   "outputs": [
    {
     "name": "stdout",
     "output_type": "stream",
     "text": [
      "List is ['a', 'b', 'c', 'd', 'e', 'f', 'g', 'h', 'i', 'j']\n",
      "First 3 letters of the list are ['a', 'b', 'c']\n",
      "Any 3 letters from the middle are ['d', 'e', 'f']\n",
      "Letter from any particular index to the end of the list is ['g', 'h', 'i', 'j']\n"
     ]
    }
   ],
   "source": [
    "list1=[]\n",
    "for i in range(97,107):\n",
    "    list1.append(chr(i))\n",
    "print(f\"List is {list1}\")\n",
    "print(f\"First 3 letters of the list are {list1[:3]}\")\n",
    "print(f\"Any 3 letters from the middle are {list1[3:6]}\")\n",
    "print(f\"Letter from any particular index to the end of the list is {list1[6:]}\")\n"
   ]
  },
  {
   "cell_type": "markdown",
   "metadata": {},
   "source": [
    "Q9.Write a program that scans an email address and forms a tuple of user name and domain. "
   ]
  },
  {
   "cell_type": "code",
   "execution_count": 6,
   "metadata": {},
   "outputs": [
    {
     "name": "stdout",
     "output_type": "stream",
     "text": [
      "Tuple is ('hemantkathuria04', 'gmail.com')\n"
     ]
    }
   ],
   "source": [
    "email=input(\"Enter the email address: \")\n",
    "tuple1=tuple(email.split(\"@\"))\n",
    "print(f\"Tuple is {tuple1}\")"
   ]
  },
  {
   "cell_type": "markdown",
   "metadata": {},
   "source": [
    "Q10. Write a program that uses a user defined function that accepts name and gender (as M for Male, F for Female) and prefixes Mr./Ms. on the basis of the gender. "
   ]
  },
  {
   "cell_type": "code",
   "execution_count": 11,
   "metadata": {},
   "outputs": [
    {
     "name": "stdout",
     "output_type": "stream",
     "text": [
      "Hello Mr.Hemant\n"
     ]
    }
   ],
   "source": [
    "def prefix():\n",
    "    name=input(\"Enter the name: \")\n",
    "    gender=input(\"Enter your gender(M/F): \").upper()\n",
    "    if gender==\"M\":\n",
    "        print(f\"Hello Mr.{name}\")\n",
    "    elif gender==\"F\":\n",
    "        print(f\"Hello Ms.{name}\")\n",
    "    else:\n",
    "        print(\"Invalid input\")\n",
    "prefix()"
   ]
  },
  {
   "cell_type": "markdown",
   "metadata": {},
   "source": [
    "Q11. Write a program to display Bar graphs or Pie chart using Matplotlib. "
   ]
  },
  {
   "cell_type": "code",
   "execution_count": 13,
   "metadata": {},
   "outputs": [
    {
     "data": {
      "image/png": "[encoded data removed]",
      "text/plain": [
       "<Figure size 640x480 with 1 Axes>"
      ]
     },
     "metadata": {},
     "output_type": "display_data"
    },
    {
     "data": {
      "image/png": "[encoded data removed]",
      "text/plain": [
       "<Figure size 640x480 with 1 Axes>"
      ]
     },
     "metadata": {},
     "output_type": "display_data"
    }
   ],
   "source": [
    "import matplotlib.pyplot as plt\n",
    "import numpy as np\n",
    "x=np.array([1,2,3,4,5])\n",
    "y=np.array([10,20,30,40,50])\n",
    "plt.bar(x,y)\n",
    "plt.show()\n",
    "plt.pie(x)\n",
    "plt.show()"
   ]
  },
  {
   "cell_type": "markdown",
   "metadata": {},
   "source": [
    "## Cannot happen in jupyter notebook\n",
    "Q12.Write a program that defines a function large in a module which will be used to find larger of two values and called from code in another module."
   ]
  },
  {
   "cell_type": "code",
   "execution_count": null,
   "metadata": {},
   "outputs": [],
   "source": [
    "#Write a program that defines a function large in a module which will be used to find larger of two values and called from code in another module \n",
    "def large(a,b):\n",
    "    if a>b:\n",
    "        print(f\"{a} is larger\")\n",
    "    else:\n",
    "        print(f\"{b} is larger\")\n",
    "large(10,20)\n"
   ]
  },
  {
   "cell_type": "markdown",
   "metadata": {},
   "source": [
    "Q13. Write a program to know the cursor position and print the text according to specifications given below:<br>● Print the initial position <br>● Move the cursor to 4th position <br>● Display next 5 characters <br>● Move the cursor to the next 10 characters <br>● Print the current cursor position <br>● Print next 10 characters from the current cursor position "
   ]
  },
  {
   "cell_type": "code",
   "execution_count": 2,
   "metadata": {},
   "outputs": [
    {
     "name": "stdout",
     "output_type": "stream",
     "text": [
      "0\n",
      "b'm ips'\n",
      "19\n",
      "b'it amet co'\n"
     ]
    }
   ],
   "source": [
    "f=open(\"hello.txt\",\"rb\")\n",
    "print(f.tell())\n",
    "f.seek(4)\n",
    "print(f.read(5))\n",
    "f.seek(10,1)\n",
    "print(f.tell())\n",
    "print(f.read(10))\n",
    "f.close()"
   ]
  },
  {
   "cell_type": "markdown",
   "metadata": {},
   "source": [
    "Q14. Create a binary file with roll number, name and marks. Input a roll number and perform the following operations:<br>1) Update the marks <br>2) Delete the record <br>3) Display the record <br>4) Append the record<br>5) Search the record "
   ]
  },
  {
   "cell_type": "code",
   "execution_count": 3,
   "metadata": {},
   "outputs": [
    {
     "name": "stdout",
     "output_type": "stream",
     "text": [
      "MENU\n",
      "1.Update Marks\n",
      "2.Delete Record\n",
      "3.Display Record\n",
      "4.Append Record\n",
      "5.Search Record\n",
      "6.Exit\n",
      "{'SROLL': 2, 'SNAME': 'Krishana', 'SMARKS': 79}\n",
      "MENU\n",
      "1.Update Marks\n",
      "2.Delete Record\n",
      "3.Display Record\n",
      "4.Append Record\n",
      "5.Search Record\n",
      "6.Exit\n",
      "MENU\n",
      "1.Update Marks\n",
      "2.Delete Record\n",
      "3.Display Record\n",
      "4.Append Record\n",
      "5.Search Record\n",
      "6.Exit\n",
      "{'SROLL': 2, 'SNAME': 'Krishana', 'SMARKS': 79}\n",
      "MENU\n",
      "1.Update Marks\n",
      "2.Delete Record\n",
      "3.Display Record\n",
      "4.Append Record\n",
      "5.Search Record\n",
      "6.Exit\n",
      "Thank you\n"
     ]
    }
   ],
   "source": [
    "import pickle\n",
    "def  Writerecord(sroll,sname,smarks):\n",
    "    with open ('Student.dat','wb') as Myfile:\n",
    "        srecord={\"SROLL\":sroll,\"SNAME\":sname,\"SMARKS\":smarks}        \n",
    "        pickle.dump(srecord,Myfile)\n",
    "def Input():\n",
    "    n=int(input(\"How many records you want to create :\"))\n",
    "    for ctr in range(n):\n",
    "        sroll=int(input(\"Enter Roll No: \"))\n",
    "        sname=input(\"Enter Name: \")\n",
    "        smarks=int(input(\"Enter Marks: \"))\n",
    "        Writerecord(sroll,sname,smarks)\n",
    "def updatemarks(sroll,smarks):\n",
    "    with open ('Student.dat','rb') as Myfile:\n",
    "        srecord=pickle.load(Myfile)\n",
    "        if srecord[\"SROLL\"]==sroll:\n",
    "            srecord[\"SMARKS\"]=smarks\n",
    "            with open ('Student.dat','wb') as Myfile:\n",
    "                pickle.dump(srecord,Myfile)\n",
    "def Delete(sroll):\n",
    "    with open ('Student.dat','rb') as Myfile:\n",
    "        srecord=pickle.load(Myfile)\n",
    "        if srecord[\"SROLL\"]==sroll:\n",
    "            srecord[\"SROLL\"]=0\n",
    "            srecord[\"SNAME\"]=\"\"\n",
    "            srecord[\"SMARKS\"]=0\n",
    "            with open ('Student.dat','wb') as Myfile:\n",
    "                pickle.dump(srecord,Myfile)\n",
    "def Display():\n",
    "    with open ('Student.dat','rb') as Myfile:\n",
    "        srecord=pickle.load(Myfile)\n",
    "        print(srecord)\n",
    "def appendrecord(sroll,sname,smarks):\n",
    "    with open ('Student.dat','ab') as Myfile:\n",
    "        srecord={\"SROLL\":sroll,\"SNAME\":sname,\"SMARKS\":smarks}        \n",
    "        pickle.dump(srecord,Myfile)\n",
    "\n",
    "def SearchRecord(roll):\n",
    "    with open ('StudentRecord1.dat','rb') as Myfile:\n",
    "        while True:\n",
    "            try:\n",
    "                rec=pickle.load(Myfile)\n",
    "                if rec['SROLL']==roll:\n",
    "                    print(\"Record Found\")\n",
    "                    print(\"Roll NO:\",rec['SROLL'])\n",
    "                    print(\"Name:\",rec['SNAME'])\n",
    "                    print(\"Marks:\",rec['SMARKS'])\n",
    "\n",
    "                else:\n",
    "                    print(\"Record not found..............\")\n",
    "                    break\n",
    "            except EOFError:\n",
    "                break\n",
    "def main():\n",
    "    Input()\n",
    "    while True:\n",
    "        print(\"MENU\\n1.Update Marks\\n2.Delete Record\\n3.Display Record\\n4.Append Record\\n5.Search Record\\n6.Exit\")\n",
    "        ch=int(input(\"Enter your choice: \"))\n",
    "        if ch==1:\n",
    "            sroll=int(input(\"Enter Roll No: \"))\n",
    "            smarks=int(input(\"Enter Marks: \"))\n",
    "            updatemarks(sroll,smarks)\n",
    "        elif ch==2:\n",
    "            sroll=int(input(\"Enter Roll No: \"))\n",
    "            Delete(sroll)\n",
    "        elif ch==3:\n",
    "            Display()\n",
    "        elif ch==4:\n",
    "            sroll=int(input(\"Enter Roll No: \"))\n",
    "            sname=input(\"Enter Name: \")\n",
    "            smarks=int(input(\"Enter Marks: \"))\n",
    "            appendrecord(sroll,sname,smarks)\n",
    "        elif ch==5:\n",
    "            sroll=int(input(\"Enter Roll No: \"))\n",
    "            SearchRecord(sroll)\n",
    "        else:\n",
    "            print(\"Thank you\")\n",
    "            break\n",
    "main()"
   ]
  },
  {
   "cell_type": "markdown",
   "metadata": {},
   "source": [
    "Q15. Write a program to Create a CSV file by entering user-id and password, read and search the password for given user id"
   ]
  },
  {
   "cell_type": "code",
   "execution_count": 1,
   "metadata": {},
   "outputs": [
    {
     "name": "stdout",
     "output_type": "stream",
     "text": [
      "MENU\n",
      "1.Create\n",
      "2.Read\n",
      "3.Search\n",
      "4.Exit\n",
      "MENU\n",
      "1.Create\n",
      "2.Read\n",
      "3.Search\n",
      "4.Exit\n",
      "['User ID', 'Password']\n",
      "['Hemant', 'Hemant04']\n",
      "MENU\n",
      "1.Create\n",
      "2.Read\n",
      "3.Search\n",
      "4.Exit\n",
      "Password is Hemant04\n",
      "MENU\n",
      "1.Create\n",
      "2.Read\n",
      "3.Search\n",
      "4.Exit\n",
      "Thank you\n"
     ]
    }
   ],
   "source": [
    "import csv\n",
    "def create():\n",
    "    with open(\"user.csv\",\"w\") as f:\n",
    "        writer=csv.writer(f)\n",
    "        writer.writerow([\"User ID\",\"Password\"])\n",
    "        while True:\n",
    "            user=input(\"Enter the user id: \")\n",
    "            password=input(\"Enter the password: \")\n",
    "            writer.writerow([user,password])\n",
    "            ch=input(\"Do you want to continue? (Y/N): \").upper()\n",
    "            if ch==\"N\":\n",
    "                break\n",
    "def read():\n",
    "    with open(\"user.csv\",\"r\") as f:\n",
    "        reader=csv.reader(f)\n",
    "        for row in reader:\n",
    "            print(row)\n",
    "def search():\n",
    "    with open(\"user.csv\",\"r\") as f:\n",
    "        reader=csv.reader(f)\n",
    "        user=input(\"Enter the user id: \")\n",
    "        for row in reader:\n",
    "            if row[0]==user:\n",
    "                print(f\"Password is {row[1]}\")\n",
    "                break\n",
    "        else:\n",
    "            print(\"User id not found\")\n",
    "def main():\n",
    "    while True:\n",
    "        print(\"MENU\\n1.Create\\n2.Read\\n3.Search\\n4.Exit\")\n",
    "        ch=int(input(\"Enter your choice: \"))\n",
    "        if ch==1:\n",
    "            create()\n",
    "        elif ch==2:\n",
    "            read()\n",
    "        elif ch==3:\n",
    "            search()\n",
    "        else:\n",
    "            print(\"Thank you\")\n",
    "            break\n",
    "main()"
   ]
  },
  {
   "cell_type": "markdown",
   "metadata": {},
   "source": [
    "Name: Hemant Kathuria<br>\n",
    "Class: BCA 3C<br>\n",
    "Enrollment No.: 15917702021"
   ]
  }
 ],
 "metadata": {
  "kernelspec": {
   "display_name": "Python 3.10.4 64-bit",
   "language": "python",
   "name": "python3"
  },
  "language_info": {
   "codemirror_mode": {
    "name": "ipython",
    "version": 3
   },
   "file_extension": ".py",
   "mimetype": "text/x-python",
   "name": "python",
   "nbconvert_exporter": "python",
   "pygments_lexer": "ipython3",
   "version": "3.10.4"
  },
  "vscode": {
   "interpreter": {
    "hash": "3ad933181bd8a04b432d3370b9dc3b0662ad032c4dfaa4e4f1596c548f763858"
   }
  }
 },
 "nbformat": 4,
 "nbformat_minor": 2
}
