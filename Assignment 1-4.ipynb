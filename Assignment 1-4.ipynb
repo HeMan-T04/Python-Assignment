{
 "cells": [
  {
   "cell_type": "markdown",
   "metadata": {},
   "source": [
    "## Assignment 1-4\n",
    "Q1. Write a program to enter two integers, two floating numbers and then perform all arithmetic operations on them. "
   ]
  },
  {
   "cell_type": "code",
   "execution_count": 1,
   "metadata": {},
   "outputs": [
    {
     "name": "stdout",
     "output_type": "stream",
     "text": [
      "Addition of two integers: 4\n",
      "Subtraction of two integers: 0\n",
      "Multiplication of two integers: 4\n",
      "Division of two integers: 1.0\n",
      "Addition of two floating numbers: 5.0\n",
      "Subtraction of two floating numbers: 0.0\n",
      "Multiplication of two floating numbers: 6.25\n",
      "Division of two floating numbers: 1.0\n"
     ]
    }
   ],
   "source": [
    "a,b=int(input(\"Enter the first integer:\")),int(input(\"Enter the second integer:\"))\n",
    "c,d=float(input(\"Enter the first floating number:\")),float(input(\"Enter the second floating number:\"))\n",
    "print(\"Addition of two integers:\",a+b)\n",
    "print(\"Subtraction of two integers:\",a-b)\n",
    "print(\"Multiplication of two integers:\",a*b)\n",
    "print(\"Division of two integers:\",a/b)\n",
    "print(\"Addition of two floating numbers:\",c+d)\n",
    "print(\"Subtraction of two floating numbers:\",c-d)\n",
    "print(\"Multiplication of two floating numbers:\",c*d)\n",
    "print(\"Division of two floating numbers:\",c/d)"
   ]
  },
  {
   "cell_type": "markdown",
   "metadata": {},
   "source": [
    "Q2. Write a program to check whether a number is an Armstrong number or not. "
   ]
  },
  {
   "cell_type": "code",
   "execution_count": 4,
   "metadata": {},
   "outputs": [
    {
     "name": "stdout",
     "output_type": "stream",
     "text": [
      "153 is an Armstrong number\n"
     ]
    }
   ],
   "source": [
    "a=int(input(\"Enter the number:\"))\n",
    "b=a\n",
    "c=0\n",
    "while a>0:\n",
    "    d=a%10\n",
    "    c=c+d**3\n",
    "    a=a//10\n",
    "if b==c:\n",
    "    print(f\"{b} is an Armstrong number\")\n",
    "else:\n",
    "    print(f\"{b} is not an Armstrong number\")"
   ]
  },
  {
   "cell_type": "markdown",
   "metadata": {},
   "source": [
    "Q3. Write a program to print the sum of all the primes between two ranges. "
   ]
  },
  {
   "cell_type": "code",
   "execution_count": 7,
   "metadata": {},
   "outputs": [
    {
     "name": "stdout",
     "output_type": "stream",
     "text": [
      "Sum of prime numbers between 1 and 6 is 10\n"
     ]
    }
   ],
   "source": [
    "a=int(input(\"Enter the first number:\"))\n",
    "b=int(input(\"Enter the second number:\"))\n",
    "sum=0\n",
    "for i in range(a,b+1):\n",
    "    if i>1:\n",
    "        for j in range(2,i):\n",
    "            if i%j==0:\n",
    "                break\n",
    "        else:\n",
    "            sum=sum+i\n",
    "print(f\"Sum of prime numbers between {a} and {b} is {sum}\")"
   ]
  },
  {
   "cell_type": "markdown",
   "metadata": {},
   "source": [
    "Q4. Write a program to swap two strings. "
   ]
  },
  {
   "cell_type": "code",
   "execution_count": 8,
   "metadata": {},
   "outputs": [
    {
     "name": "stdout",
     "output_type": "stream",
     "text": [
      "Strings before swap\n",
      "a=Hello \n",
      "b=world\n",
      "Strings after swap\n",
      "a=world\n",
      "b=Hello \n"
     ]
    }
   ],
   "source": [
    "a,b=input(\"Enter the First string: \"),input(\"Ener the second string: \")\n",
    "print(f\"Strings before swap\\na={a}\\nb={b}\")\n",
    "a,b=b,a\n",
    "print(f\"Strings after swap\\na={a}\\nb={b}\")"
   ]
  },
  {
   "cell_type": "markdown",
   "metadata": {},
   "source": [
    "Q5.Write a menu driven program to accept two strings from the user and perform the various functions using user defined functions. "
   ]
  },
  {
   "cell_type": "code",
   "execution_count": 2,
   "metadata": {},
   "outputs": [
    {
     "name": "stdout",
     "output_type": "stream",
     "text": [
      "\n",
      "MENU\n",
      "1.Concatenate two strings\n",
      "2.Length of two strings\n",
      "3.Copy of two strings\n",
      "4.Reverse of two strings\n",
      "5.Substring of two strings\n",
      "6.Palindrome of two strings\n",
      "7.Upper case of two strings\n",
      "8.Lower case of two strings\n",
      "9.Swap two strings\n",
      "10.Exit\n",
      "\n",
      "Concatenated string is HelloWorld\n",
      "\n",
      "MENU\n",
      "1.Concatenate two strings\n",
      "2.Length of two strings\n",
      "3.Copy of two strings\n",
      "4.Reverse of two strings\n",
      "5.Substring of two strings\n",
      "6.Palindrome of two strings\n",
      "7.Upper case of two strings\n",
      "8.Lower case of two strings\n",
      "9.Swap two strings\n",
      "10.Exit\n",
      "\n",
      "Length of first string is 5\n",
      "Length of second string is 5\n",
      "\n",
      "MENU\n",
      "1.Concatenate two strings\n",
      "2.Length of two strings\n",
      "3.Copy of two strings\n",
      "4.Reverse of two strings\n",
      "5.Substring of two strings\n",
      "6.Palindrome of two strings\n",
      "7.Upper case of two strings\n",
      "8.Lower case of two strings\n",
      "9.Swap two strings\n",
      "10.Exit\n",
      "\n",
      "Copy of first string is Hello\n",
      "Copy of second string is World\n",
      "\n",
      "MENU\n",
      "1.Concatenate two strings\n",
      "2.Length of two strings\n",
      "3.Copy of two strings\n",
      "4.Reverse of two strings\n",
      "5.Substring of two strings\n",
      "6.Palindrome of two strings\n",
      "7.Upper case of two strings\n",
      "8.Lower case of two strings\n",
      "9.Swap two strings\n",
      "10.Exit\n",
      "\n",
      "Reverse of first string is olleH\n",
      "Reverse of second string is dlroW\n",
      "\n",
      "MENU\n",
      "1.Concatenate two strings\n",
      "2.Length of two strings\n",
      "3.Copy of two strings\n",
      "4.Reverse of two strings\n",
      "5.Substring of two strings\n",
      "6.Palindrome of two strings\n",
      "7.Upper case of two strings\n",
      "8.Lower case of two strings\n",
      "9.Swap two strings\n",
      "10.Exit\n",
      "\n",
      "Substring of first string is ello\n",
      "Substring of second string is orld\n",
      "\n",
      "MENU\n",
      "1.Concatenate two strings\n",
      "2.Length of two strings\n",
      "3.Copy of two strings\n",
      "4.Reverse of two strings\n",
      "5.Substring of two strings\n",
      "6.Palindrome of two strings\n",
      "7.Upper case of two strings\n",
      "8.Lower case of two strings\n",
      "9.Swap two strings\n",
      "10.Exit\n",
      "\n",
      "Hello is not a palindrome\n",
      "World is not a palindrome\n",
      "\n",
      "MENU\n",
      "1.Concatenate two strings\n",
      "2.Length of two strings\n",
      "3.Copy of two strings\n",
      "4.Reverse of two strings\n",
      "5.Substring of two strings\n",
      "6.Palindrome of two strings\n",
      "7.Upper case of two strings\n",
      "8.Lower case of two strings\n",
      "9.Swap two strings\n",
      "10.Exit\n",
      "\n",
      "Upper case of first string is HELLO\n",
      "Upper case of second string is WORLD\n",
      "\n",
      "MENU\n",
      "1.Concatenate two strings\n",
      "2.Length of two strings\n",
      "3.Copy of two strings\n",
      "4.Reverse of two strings\n",
      "5.Substring of two strings\n",
      "6.Palindrome of two strings\n",
      "7.Upper case of two strings\n",
      "8.Lower case of two strings\n",
      "9.Swap two strings\n",
      "10.Exit\n",
      "\n",
      "Lower case of first string is hello\n",
      "Lower case of second string is world\n",
      "\n",
      "MENU\n",
      "1.Concatenate two strings\n",
      "2.Length of two strings\n",
      "3.Copy of two strings\n",
      "4.Reverse of two strings\n",
      "5.Substring of two strings\n",
      "6.Palindrome of two strings\n",
      "7.Upper case of two strings\n",
      "8.Lower case of two strings\n",
      "9.Swap two strings\n",
      "10.Exit\n",
      "\n",
      "Strings before swap\n",
      "str1=Hello\n",
      "str2=World\n",
      "Strings after swap\n",
      "str1=World\n",
      "str2=Hello\n",
      "\n",
      "MENU\n",
      "1.Concatenate two strings\n",
      "2.Length of two strings\n",
      "3.Copy of two strings\n",
      "4.Reverse of two strings\n",
      "5.Substring of two strings\n",
      "6.Palindrome of two strings\n",
      "7.Upper case of two strings\n",
      "8.Lower case of two strings\n",
      "9.Swap two strings\n",
      "10.Exit\n",
      "\n",
      "Thank you\n"
     ]
    }
   ],
   "source": [
    "#Write a menu driven program to accept two strings from the user and perform the various functions using user defined functions. \n",
    "str1=input(\"Enter the first string: \")\n",
    "str2=input(\"Enter the second string: \")\n",
    "def concat():\n",
    "    print(f\"Concatenated string is {str1+str2}\")\n",
    "def length():\n",
    "    print(f\"Length of first string is {len(str1)}\")\n",
    "    print(f\"Length of second string is {len(str2)}\")\n",
    "def copy():\n",
    "    print(f\"Copy of first string is {str1}\")\n",
    "    print(f\"Copy of second string is {str2}\")\n",
    "def reverse():\n",
    "    print(f\"Reverse of first string is {str1[::-1]}\")\n",
    "    print(f\"Reverse of second string is {str2[::-1]}\")\n",
    "def substring():\n",
    "    print(f\"Substring of first string is {str1[1:]}\")\n",
    "    print(f\"Substring of second string is {str2[1:]}\")\n",
    "def palindrome():\n",
    "    if str1==str1[::-1]:\n",
    "        print(f\"{str1} is a palindrome\")\n",
    "    else:\n",
    "        print(f\"{str1} is not a palindrome\")\n",
    "    if str2==str2[::-1]:\n",
    "        print(f\"{str2} is a palindrome\")\n",
    "    else:\n",
    "        print(f\"{str2} is not a palindrome\")\n",
    "def upper():\n",
    "    print(f\"Upper case of first string is {str1.upper()}\")\n",
    "    print(f\"Upper case of second string is {str2.upper()}\")\n",
    "def lower():\n",
    "    print(f\"Lower case of first string is {str1.lower()}\")\n",
    "    print(f\"Lower case of second string is {str2.lower()}\")\n",
    "def swap(str1,str2):\n",
    "    print(f\"Strings before swap\\nstr1={str1}\\nstr2={str2}\")\n",
    "    str1,str2=str2,str1\n",
    "    print(f\"Strings after swap\\nstr1={str1}\\nstr2={str2}\")\n",
    "def exit():\n",
    "    print(\"Thank you\")\n",
    "while True:\n",
    "    print(\"\\nMENU\\n1.Concatenate two strings\\n2.Length of two strings\\n3.Copy of two strings\\n4.Reverse of two strings\\n5.Substring of two strings\\n6.Palindrome of two strings\\n7.Upper case of two strings\\n8.Lower case of two strings\\n9.Swap two strings\\n10.Exit\\n\")\n",
    "    ch=int(input(\"Enter your choice: \"))\n",
    "    if ch==1:\n",
    "        concat()\n",
    "    elif ch==2:\n",
    "        length()\n",
    "    elif ch==3:\n",
    "        copy()\n",
    "    elif ch==4:\n",
    "        reverse()\n",
    "    elif ch==5:\n",
    "        substring()\n",
    "    elif ch==6:\n",
    "        palindrome()\n",
    "    elif ch==7:\n",
    "        upper()\n",
    "    elif ch==8:\n",
    "        lower()\n",
    "    elif ch==9:\n",
    "        swap(str1,str2)\n",
    "    elif ch==10:\n",
    "        exit()\n",
    "        break\n",
    "    else:\n",
    "        print(\"Invalid choice\")\n",
    "    "
   ]
  },
  {
   "cell_type": "markdown",
   "metadata": {},
   "source": [
    "Q6. Write a program to find smallest and largest number in a list."
   ]
  },
  {
   "cell_type": "code",
   "execution_count": 1,
   "metadata": {},
   "outputs": [
    {
     "name": "stdout",
     "output_type": "stream",
     "text": [
      "List is [1, 2, 3]\n",
      "Smallest number is 1\n",
      "Largest number is 3\n"
     ]
    }
   ],
   "source": [
    "list1=[]\n",
    "n=int(input(\"Enter the number of elements: \"))\n",
    "for i in range(n):\n",
    "    list1.append(int(input(\"Enter the element: \")))\n",
    "print(f\"List is {list1}\")\n",
    "print(f\"Smallest number is {min(list1)}\")\n",
    "print(f\"Largest number is {max(list1)}\")"
   ]
  },
  {
   "cell_type": "markdown",
   "metadata": {},
   "source": [
    "Q7. Create a dictionary whose keys are month names and whose values are the number of days in the corresponding months. <br>1)Ask the user to enter a month name and use the dictionary to tell them how many days are in the month.<br>2)Print out all keys in the alphabetically order<br>3)Print out all the months with 31 days<br>4)Print out the key value pairs sorted by number of days in each month "
   ]
  },
  {
   "cell_type": "code",
   "execution_count": null,
   "metadata": {},
   "outputs": [
    {
     "name": "stdout",
     "output_type": "stream",
     "text": [
      "MENU\n",
      "1.How Many days are in month\n",
      "2.Print all keys in alphabetical order\n",
      "3.Print all months with 31 days\n",
      "4.Print key value pairs sorted by number of days in each month\n",
      "5.Exit\n"
     ]
    },
    {
     "ename": "KeyError",
     "evalue": "''",
     "output_type": "error",
     "traceback": [
      "\u001b[0;31m---------------------------------------------------------------------------\u001b[0m",
      "\u001b[0;31mKeyError\u001b[0m                                  Traceback (most recent call last)",
      "Cell \u001b[0;32mIn [1], line 7\u001b[0m\n\u001b[1;32m      5\u001b[0m \u001b[39mif\u001b[39;00m ch\u001b[39m==\u001b[39m\u001b[39m1\u001b[39m:\n\u001b[1;32m      6\u001b[0m     month\u001b[39m=\u001b[39m\u001b[39minput\u001b[39m(\u001b[39m\"\u001b[39m\u001b[39mEnter the month name: \u001b[39m\u001b[39m\"\u001b[39m)\n\u001b[0;32m----> 7\u001b[0m     \u001b[39mprint\u001b[39m(\u001b[39mf\u001b[39m\u001b[39m\"\u001b[39m\u001b[39m{\u001b[39;00mmonth\u001b[39m}\u001b[39;00m\u001b[39m has \u001b[39m\u001b[39m{\u001b[39;00mdict1[month]\u001b[39m}\u001b[39;00m\u001b[39m days\u001b[39m\u001b[39m\"\u001b[39m)\n\u001b[1;32m      8\u001b[0m \u001b[39mif\u001b[39;00m ch\u001b[39m==\u001b[39m\u001b[39m2\u001b[39m:\n\u001b[1;32m      9\u001b[0m     \u001b[39mprint\u001b[39m(\u001b[39m\"\u001b[39m\u001b[39mKeys in alphabetical order are: \u001b[39m\u001b[39m\"\u001b[39m)\n",
      "\u001b[0;31mKeyError\u001b[0m: ''"
     ]
    }
   ],
   "source": [
    "dict1={\"January\":31,\"February\":28,\"March\":31,\"April\":30,\"May\":31,\"June\":30,\"July\":31,\"August\":31,\"September\":30,\"October\":31,\"November\":30,\"December\":31}\n",
    "while True:\n",
    "    print(\"MENU\\n1.How Many days are in month\\n2.Print all keys in alphabetical order\\n3.Print all months with 31 days\\n4.Print key value pairs sorted by number of days in each month\\n5.Exit\")\n",
    "    ch=int(input(\"Enter your choice: \"))\n",
    "    if ch==1:\n",
    "        month=input(\"Enter the month name: \").capitalize()\n",
    "        print(f\"{month} has {dict1[month]} days\")\n",
    "    if ch==2:\n",
    "        print(\"Keys in alphabetical order are: \")\n",
    "        for i in sorted(dict1):\n",
    "            print(i)\n",
    "    elif ch==2:\n",
    "        print(\"Months with 31 days are: \")\n",
    "        for i in dict1:\n",
    "            if dict1[i]==31:\n",
    "                print(i)\n",
    "    elif ch==3:\n",
    "        print(\"Key value pairs sorted by number of days in each month are: \")\n",
    "        for i in sorted(dict1,key=dict1.get):\n",
    "            print(i,dict1[i])\n",
    "    elif ch==4:\n",
    "        break\n",
    "    else:\n",
    "        print(\"Invalid choice\")\n",
    "    "
   ]
  },
  {
   "cell_type": "markdown",
   "metadata": {},
   "source": [
    "Q8. Accept 10 numbers from the user and store them in the list. Write a Python program to create two lists –the first list containing all even numbers and the second list containing all odd numbers"
   ]
  },
  {
   "cell_type": "code",
   "execution_count": 16,
   "metadata": {},
   "outputs": [
    {
     "name": "stdout",
     "output_type": "stream",
     "text": [
      "The list is: [1, 2, 3, 4, 5, 6, 7, 8, 9, 10]\n",
      "The list of even numbers is: [2, 4, 6, 8, 10]\n",
      "The list of odd numbers is: [1, 3, 5, 7, 9]\n"
     ]
    }
   ],
   "source": [
    "l=[]\n",
    "for i in range(10): x=int(input(f\"Enter {i+1} number: \")); l.append(x)\n",
    "l1=[]\n",
    "l2=[]\n",
    "for i in l:\n",
    "    if i%2==0: l1.append(i)\n",
    "    else: l2.append(i)\n",
    "print(\"The list is:\",l)\n",
    "print(\"The list of even numbers is:\",l1)\n",
    "print(\"The list of odd numbers is:\",l2)"
   ]
  },
  {
   "cell_type": "markdown",
   "metadata": {},
   "source": [
    "Q9.Accept a list containing 10 strings from the user. Write a Python program to convert all these strings to uppercase."
   ]
  },
  {
   "cell_type": "code",
   "execution_count": 19,
   "metadata": {},
   "outputs": [
    {
     "name": "stdout",
     "output_type": "stream",
     "text": [
      "The list is: ['hello', 'world', 'my', 'name ', 'is ', 'vs', 'code', 'and', 'i', 'code']\n",
      "The list of uppercase strings is: ['HELLO', 'WORLD', 'MY', 'NAME ', 'IS ', 'VS', 'CODE', 'AND', 'I', 'CODE']\n"
     ]
    }
   ],
   "source": [
    "l=[]\n",
    "for i in range(10): x=input(f\"Enter {i+1} string: \"); l.append(x)\n",
    "l1=[]\n",
    "for i in l: l1.append(i.upper())\n",
    "print(\"The list is:\",l)\n",
    "print(\"The list of uppercase strings is:\",l1)\n"
   ]
  },
  {
   "cell_type": "markdown",
   "metadata": {},
   "source": [
    "Q10. Write a function that checks whether two words are anagrams. Two words are anagrams if they contain the same letters. For example, silent and listen are anagrams. Hint: Obtain two lists for  the  two  strings.  Sort  the  lists  and  check  if  two  lists  are  identical.  Write  a  test  program  that prompts the user to enter two strings and, if they are anagrams, displays “it is an anagram”; otherwise displays “it is not an anagram”."
   ]
  },
  {
   "cell_type": "code",
   "execution_count": 28,
   "metadata": {},
   "outputs": [
    {
     "name": "stdout",
     "output_type": "stream",
     "text": [
      "listen and silent are anagrams\n"
     ]
    }
   ],
   "source": [
    "def anagram(str1,str2):\n",
    "    l1=list(str1.strip())\n",
    "    l2=list(str2.strip())\n",
    "    l1.sort()\n",
    "    l2.sort()\n",
    "    l3=set(l1)\n",
    "    l4=set(l2)\n",
    "    if l3==l4:\n",
    "        print(f\"{str1} and {str2} are anagrams\")\n",
    "    else:\n",
    "        print(f\"{str1} and {str2} are not anagrams\")\n",
    "\n",
    "str1=input(\"Enter first string: \")\n",
    "str2=input(\"Enter second string: \")\n",
    "anagram(str1,str2)"
   ]
  },
  {
   "cell_type": "markdown",
   "metadata": {},
   "source": [
    "Name: Hemant Kathuria<br>\n",
    "Class: BCA 3C<br>\n",
    "Enrollment No.: 15917702021"
   ]
  }
 ],
 "metadata": {
  "kernelspec": {
   "display_name": "Python 3.10.4 64-bit",
   "language": "python",
   "name": "python3"
  },
  "language_info": {
   "codemirror_mode": {
    "name": "ipython",
    "version": 3
   },
   "file_extension": ".py",
   "mimetype": "text/x-python",
   "name": "python",
   "nbconvert_exporter": "python",
   "pygments_lexer": "ipython3",
   "version": "3.10.4"
  },
  "vscode": {
   "interpreter": {
    "hash": "3ad933181bd8a04b432d3370b9dc3b0662ad032c4dfaa4e4f1596c548f763858"
   }
  }
 },
 "nbformat": 4,
 "nbformat_minor": 2
}
