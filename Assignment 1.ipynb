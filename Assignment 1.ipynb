{
 "cells": [
  {
   "cell_type": "markdown",
   "metadata": {},
   "source": [
    "## Assignment 1\n",
    "Q1. Assign  5  to  variable  length  and  10  to  variable  breadth. Assign  the sumof  values  of variables length and breadth to a variable sum."
   ]
  },
  {
   "cell_type": "code",
   "execution_count": 40,
   "metadata": {},
   "outputs": [
    {
     "name": "stdout",
     "output_type": "stream",
     "text": [
      "15\n"
     ]
    }
   ],
   "source": [
    "length=5\n",
    "breadth=10\n",
    "sum=length+breadth\n",
    "print(sum)"
   ]
  },
  {
   "cell_type": "markdown",
   "metadata": {},
   "source": [
    "Q2. Assign a list containing strings ‘Paper’, ‘Gel Pen’, and ‘Eraser’ to a variable stationery. "
   ]
  },
  {
   "cell_type": "code",
   "execution_count": 41,
   "metadata": {},
   "outputs": [
    {
     "name": "stdout",
     "output_type": "stream",
     "text": [
      "['Paper', 'Gel Pen', 'Eraser']\n"
     ]
    }
   ],
   "source": [
    "stationery=[\"Paper\",\"Gel Pen\",\"Eraser\"]\n",
    "print(stationery)"
   ]
  },
  {
   "cell_type": "markdown",
   "metadata": {},
   "source": [
    "Q3. Assign the strings ‘Mohandas’, ‘Karamchand’, and ‘Gandhi’ to variables first, middle and last. Assign the concatenated value of string variables first, middle and last to variable Name. Make sure to incorporate blank spaces appropriately between different parts of names."
   ]
  },
  {
   "cell_type": "code",
   "execution_count": 42,
   "metadata": {},
   "outputs": [
    {
     "name": "stdout",
     "output_type": "stream",
     "text": [
      "Mohandas Karamchand Gandhi\n"
     ]
    }
   ],
   "source": [
    "first=\"Mohandas\"\n",
    "middle=\"Karamchand\"\n",
    "last=\"Gandhi\"\n",
    "Name=first+\" \"+middle+\" \"+last\n",
    "print(Name)"
   ]
  },
  {
   "cell_type": "markdown",
   "metadata": {},
   "source": [
    "Q4. Print characters from a string “Python is Fun!!!” that are present at an even index number.Also print first 6characters from a string."
   ]
  },
  {
   "cell_type": "code",
   "execution_count": 43,
   "metadata": {},
   "outputs": [
    {
     "name": "stdout",
     "output_type": "stream",
     "text": [
      "0::P 2::t 4::o 6::  8::s 10::F 12::n 14::! \n",
      "Python \n"
     ]
    }
   ],
   "source": [
    "str=\"Python is Fun!!!\"\n",
    "for i in range(0,len(str),2):\n",
    "    print(f\"{i}::{str[i]}\",end=\" \")\n",
    "print(f\"\\n{str[0:7]}\")"
   ]
  },
  {
   "cell_type": "markdown",
   "metadata": {},
   "source": [
    "Q5. Create a string S1 “Welcome to the world of Python !!!”. Perform following slicing on it<br>\n",
    "a) S1[:3]<br>b) S1[1:5:2]<br>c) S1[-1:-12:-2]<br>d) S1[1:5:2]<br>e) S1[8:4:-2]<br>f) S1[::-1]"
   ]
  },
  {
   "cell_type": "code",
   "execution_count": 44,
   "metadata": {},
   "outputs": [
    {
     "name": "stdout",
     "output_type": "stream",
     "text": [
      "Wel\n",
      "ec\n",
      "! otPf\n",
      "ec\n",
      "te\n",
      "!! nohtyP fo dlrow eht ot emocleW\n"
     ]
    }
   ],
   "source": [
    "S1=\"Welcome to the world of Python !!\"\n",
    "print(S1[:3],S1[1:5:2],S1[-1:-12:-2],S1[1:5:2],S1[8:4:-2],S1[::-1],sep=\"\\n\")"
   ]
  },
  {
   "cell_type": "markdown",
   "metadata": {},
   "source": [
    "Q6. Make a list Lst=[50,70,30,20,90,10,50,8,9] and perform following slicing operations on it.<br>a) Lst[::]<br>b) Lst[-7::1]<br>c) Lst[1:5]<br>d) Lst[3:9:2]<br>e) Lst[::2]<br>f) Lst[:1:-2]"
   ]
  },
  {
   "cell_type": "code",
   "execution_count": 45,
   "metadata": {},
   "outputs": [
    {
     "name": "stdout",
     "output_type": "stream",
     "text": [
      "[50, 70, 30, 20, 90, 10, 50, 8, 9]\n",
      "[30, 20, 90, 10, 50, 8, 9]\n",
      "[70, 30, 20, 90]\n",
      "[20, 10, 8]\n",
      "[50, 30, 90, 50, 9]\n",
      "[9, 50, 90, 30]\n"
     ]
    }
   ],
   "source": [
    "Lst=[50,70,30,20,90,10,50,8,9]\n",
    "print(Lst[::],Lst[-7::1],Lst[1:5],Lst[3:9:2],Lst[::2],Lst[:1:-2],sep=\"\\n\")"
   ]
  },
  {
   "cell_type": "markdown",
   "metadata": {},
   "source": [
    "Q7. Make a tuple tuplex=(2,4,3,5,4,6,7,8,6,1) and perform following slicing operations on it.<br>a) tuplex[3:5]<br>b) tuplex[:6]<br>c) tuplex[5:]<br>d) tuplex[:]<br>e) tuplex[-8:-4]<br>f) tuplex[2:2:2]"
   ]
  },
  {
   "cell_type": "code",
   "execution_count": 46,
   "metadata": {},
   "outputs": [
    {
     "name": "stdout",
     "output_type": "stream",
     "text": [
      "(5, 4)\n",
      "(2, 4, 3, 5, 4, 6)\n",
      "(6, 7, 8, 6, 1)\n",
      "(2, 4, 3, 5, 4, 6, 7, 8, 6, 1)\n",
      "(3, 5, 4, 6)\n",
      "()\n"
     ]
    }
   ],
   "source": [
    "tuplex=(2,4,3,5,4,6,7,8,6,1)\n",
    "print(tuplex[3:5],tuplex[:6],tuplex[5:],tuplex[:],tuplex[-8:-4],tuplex[2:2:2],sep=\"\\n\")"
   ]
  },
  {
   "cell_type": "markdown",
   "metadata": {},
   "source": [
    "Q8. Make a tuple tupley=(\"HELLO WORLD\") and perform the following slicing operations on it.<br>a) tupley[2:9:2]<br>b) tupley[::4]<br>c) tupley[9:2:-4]<br>d) tupley[3:5]<br>e) tupley[:6]<br>f) tupley[5:]"
   ]
  },
  {
   "cell_type": "code",
   "execution_count": 47,
   "metadata": {},
   "outputs": [
    {
     "name": "stdout",
     "output_type": "stream",
     "text": [
      "LOWR\n",
      "HOR\n",
      "L \n",
      "LO\n",
      "HELLO \n",
      " WORLD\n"
     ]
    }
   ],
   "source": [
    "tupley=(\"HELLO WORLD\")\n",
    "print(tupley[2:9:2],tupley[::4],tupley[9:2:-4],tupley[3:5],tupley[:6],tupley[5:],sep=\"\\n\")"
   ]
  },
  {
   "cell_type": "markdown",
   "metadata": {},
   "source": [
    "Q9. Make a dictionary dict1={1:2,2:3,3:4,4:5,5:6,6:7,7:1} and perform the following:<br>dict1[dict1[3]]"
   ]
  },
  {
   "cell_type": "code",
   "execution_count": 48,
   "metadata": {},
   "outputs": [
    {
     "name": "stdout",
     "output_type": "stream",
     "text": [
      "5\n"
     ]
    }
   ],
   "source": [
    "dict1={1:2,2:3,3:4,4:5,5:6,6:7,7:1}\n",
    "print(dict1[dict1[3]])"
   ]
  },
  {
   "cell_type": "markdown",
   "metadata": {},
   "source": [
    "Q10. Make a program to display all escape sequences<br>\n",
    "<table>\n",
    "<tr>\n",
    "<th>Escape</th>\n",
    "<th>Meaning</th>\n",
    "</tr>\n",
    "<tr>\n",
    "<td>\\</td>             \n",
    "<td>newline Ignored (continuation line)</td>\n",
    "</tr>\n",
    "<tr>\n",
    "<td>\\\\</td>            \n",
    "<td>Backslash (stores one \\)</td>\n",
    "</tr>\n",
    "<tr>\n",
    "<td>\\'</td> \n",
    "<td>Single quote (stores ')</td>\n",
    "</tr>\n",
    "<tr>\n",
    "<td>\\\"</td> \n",
    "<td>Double quote (stores \")</td>\n",
    "</tr>\n",
    "<tr>\n",
    "<td>\\b</td> \n",
    "<td>Backspace</td>\n",
    "</tr>\n",
    "<tr>\n",
    "<td>\\n</td> \n",
    "<td>Newline (linefeed)</td>\n",
    "</tr>\n",
    "<tr>\n",
    "<td>\\r</td> <td>Carriage return</td>\n",
    "</tr>\n",
    "<tr>\n",
    "<td>\\t </td><td>Horizontal tab</td>\n",
    "</tr>\n",
    "<tr>\n",
    "<td>\\v</td><td>Vertical tab</td>\n",
    "</tr>\n",
    "<tr>\n",
    "<td>\\ooo</td>\n",
    "<td>Octal Value</td>\n",
    "</tr>\n",
    "<tr>\n",
    "<td>\\xhh</td><td>Hexadecimal Value</td>\n",
    "</tr></table>"
   ]
  },
  {
   "cell_type": "code",
   "execution_count": 49,
   "metadata": {},
   "outputs": [
    {
     "name": "stdout",
     "output_type": "stream",
     "text": [
      "Hello World!!\n",
      "Hello \\World!!\n",
      "'Hello World!!'\n",
      "\"Hello World!!\"\n",
      "HelloWorld!!\n",
      "ld!!o Wor\n",
      "Hello\tWorld!!\n",
      "Hello\u000bWorld!!\n",
      "Octal\n",
      "Hexadecimal\n"
     ]
    }
   ],
   "source": [
    "str1=\"Hello \\\n",
    "World!!\"\n",
    "str2=\"Hello \\\\World!!\"\n",
    "str3=\"\\'Hello World!!\\'\"\n",
    "str4=\"\\\"Hello World!!\\\"\"\n",
    "str5=\"Hello \\bWorld!!\"\n",
    "str6=\"Hello Wor\\rld!!\"\n",
    "str7=\"Hello\\tWorld!!\"\n",
    "str8=\"Hello\\vWorld!!\"\n",
    "str9=\"\\117\\143\\164\\141\\154\"\n",
    "str10=\"\\x48\\x65\\x78\\x61\\x64\\x65\\x63\\x69\\x6D\\x61\\x6C\"\n",
    "print(str1,str2,str3,str4,str5,str6,str7,str8,str9,str10,sep=\"\\n\")\n"
   ]
  },
  {
   "cell_type": "markdown",
   "metadata": {},
   "source": [
    "Name: Hemant Kathuria<br>\n",
    "Class: BCA 3C<br>\n",
    "Enrollment No.: 15917702021"
   ]
  }
 ],
 "metadata": {
  "kernelspec": {
   "display_name": "Python 3.10.7 64-bit",
   "language": "python",
   "name": "python3"
  },
  "language_info": {
   "codemirror_mode": {
    "name": "ipython",
    "version": 3
   },
   "file_extension": ".py",
   "mimetype": "text/x-python",
   "name": "python",
   "nbconvert_exporter": "python",
   "pygments_lexer": "ipython3",
   "version": "3.10.7"
  },
  "orig_nbformat": 4,
  "vscode": {
   "interpreter": {
    "hash": "a66f8d00d3d123911ed7c904d6179a309da76b45da50889379c4e5157a11582c"
   }
  }
 },
 "nbformat": 4,
 "nbformat_minor": 2
}
