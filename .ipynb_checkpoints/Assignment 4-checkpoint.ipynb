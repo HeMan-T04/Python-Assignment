{
 "cells": [
  {
   "cell_type": "markdown",
   "metadata": {},
   "source": [
    "## Assignment 4\n",
    "Q1. Write a Python program to accept a string and count the total number of vowels in the input string."
   ]
  },
  {
   "cell_type": "code",
   "execution_count": 1,
   "metadata": {},
   "outputs": [
    {
     "name": "stdout",
     "output_type": "stream",
     "text": [
      "Enter the string: Hemant\n",
      "Number of vowels in the given string are 2\n"
     ]
    }
   ],
   "source": [
    "v=[\"a\",\"e\",\"i\",\"o\",\"u\",\"A\",\"E\",\"I\",\"O\",\"U\"]\n",
    "str1=input(\"Enter the string: \")\n",
    "c=0\n",
    "for i in str1:\n",
    "    if i in v:\n",
    "        c=c+1\n",
    "if c==0:\n",
    "    print(\"No vowels in the string\")\n",
    "else:\n",
    "    print(f\"Number of vowels in the given string are {c}\")\n",
    "    "
   ]
  },
  {
   "cell_type": "markdown",
   "metadata": {},
   "source": [
    "Q2. Write a Python program to accept five words as input and print the sentence formed by these words after adding a space between consecutive words and a full stop at the end. "
   ]
  },
  {
   "cell_type": "code",
   "execution_count": 8,
   "metadata": {},
   "outputs": [
    {
     "name": "stdout",
     "output_type": "stream",
     "text": [
      " Hello Hemant How are you.\n"
     ]
    }
   ],
   "source": [
    "l=[input(\"Enter the string: \") for i in range(5)]\n",
    "s=\"\"\n",
    "for i in range(5): s=s+\" \"+l[i]\n",
    "s=s+\".\"\n",
    "print(s)"
   ]
  },
  {
   "cell_type": "markdown",
   "metadata": {},
   "source": [
    "Q3. Write a Python program to accept a string as input, convert it to lower case, sort the string in alphabetical order, and print the sorted string to the console. You can assume that the string will only contain letters. for example: Madam->aadmm"
   ]
  },
  {
   "cell_type": "code",
   "execution_count": 10,
   "metadata": {},
   "outputs": [
    {
     "name": "stdout",
     "output_type": "stream",
     "text": [
      "aehmnt\n"
     ]
    }
   ],
   "source": [
    "str1=input(\"Enter the string: \")\n",
    "str1=str1.lower()\n",
    "l=list(str1)\n",
    "l.sort()\n",
    "str1=\"\"\n",
    "for i in l: str1=str1+i\n",
    "print(str1)"
   ]
  },
  {
   "cell_type": "markdown",
   "metadata": {},
   "source": [
    "Q4. Write a Python program that reads email id of a person in the form of a string and ensures that it belongs to domain @gmail.com."
   ]
  },
  {
   "cell_type": "code",
   "execution_count": 30,
   "metadata": {},
   "outputs": [
    {
     "name": "stdout",
     "output_type": "stream",
     "text": [
      "hemantkathuria04@gmail.com\n",
      "Valid email id\n"
     ]
    }
   ],
   "source": [
    "email=input(\"Enter the email id: \")\n",
    "print(email)\n",
    "if email.rfind(\"@gmail.com\"):\n",
    "    print(\"Valid email id\")\n",
    "else:\n",
    "    print(\"Invalid email id\")"
   ]
  },
  {
   "cell_type": "markdown",
   "metadata": {},
   "source": [
    "Q5. Consider the string, str=”Python Programming” Write statements in Python to implement the following:<br>\n",
    "⚫ To display the last five characters.<br>\n",
    "⚫ To display the substring starting from index 10 and ending at index 13.<br>\n",
    "⚫ To check whether string has alphanumeric characters or not.<br>\n",
    "⚫ To trim the last four characters from the string.<br>\n",
    "⚫ To trim the first seven characters from the string.<br>\n",
    "⚫ To display the starting index for the substring, ‘Prog’.<br>\n",
    "⚫ To change the case of the given string.<br>\n",
    "⚫ To check if the string is in title case.<br>"
   ]
  },
  {
   "cell_type": "code",
   "execution_count": 18,
   "metadata": {},
   "outputs": [
    {
     "name": "stdout",
     "output_type": "stream",
     "text": [
      "mming\n",
      "gram\n",
      "False\n",
      "Python Program\n",
      "Programming\n",
      "7\n",
      "pYTHON pROGRAMMING\n",
      "True\n"
     ]
    }
   ],
   "source": [
    "str=\"Python Programming\"\n",
    "print(str[-5:])\n",
    "print(str[10:14])\n",
    "print(str.isalnum())\n",
    "print(str[:-4])\n",
    "print(str[7:])\n",
    "print(str.find(\"Prog\"))\n",
    "print(str.swapcase())\n",
    "print(str.istitle())"
   ]
  },
  {
   "cell_type": "markdown",
   "metadata": {},
   "source": [
    "Q6. Write a Python program to count the number of strings where the string length is 2 or more and the first and last character are same from a given list of strings."
   ]
  },
  {
   "cell_type": "code",
   "execution_count": 6,
   "metadata": {},
   "outputs": [
    {
     "name": "stdout",
     "output_type": "stream",
     "text": [
      "The list is: ['HeH', 'Hemant', 'lol']\n",
      "Number of strings where the string length is 2 or more and the first and last character are same are 2\n"
     ]
    }
   ],
   "source": [
    "l=[]\n",
    "l=input(\"Enter the strings seperated by ',': \").split(\",\")\n",
    "c=0\n",
    "for i in l:\n",
    "    if len(i)>=2 and i[0]==i[-1]:\n",
    "        c=c+1\n",
    "print(\"The list is:\",l)\n",
    "print(f\"Number of strings where the string length is 2 or more and the first and last character are same are {c}\")"
   ]
  },
  {
   "cell_type": "markdown",
   "metadata": {},
   "source": [
    "Q7. Write a Python program to display the second largest number in a list."
   ]
  },
  {
   "cell_type": "code",
   "execution_count": 14,
   "metadata": {},
   "outputs": [
    {
     "name": "stdout",
     "output_type": "stream",
     "text": [
      "The list is: [1, 2, 3]\n",
      "The second largest number in the list is 2\n"
     ]
    }
   ],
   "source": [
    "l=[]\n",
    "n=int(input(\"Enter the number of elements in the list: \"))\n",
    "for i in range(n): x=int(input(f\"Enter {i+1} number: \")); l.append(x)\n",
    "l.sort()\n",
    "print(\"The list is:\",l)\n",
    "print(f\"The second largest number in the list is {l[-2]}\")"
   ]
  },
  {
   "cell_type": "markdown",
   "metadata": {},
   "source": [
    "Q8. Accept 10 numbers from the user and store them in the list. Write a Python program to create two lists –the first list containing all even numbers and the second list containing all odd numbers"
   ]
  },
  {
   "cell_type": "code",
   "execution_count": 16,
   "metadata": {},
   "outputs": [
    {
     "name": "stdout",
     "output_type": "stream",
     "text": [
      "The list is: [1, 2, 3, 4, 5, 6, 7, 8, 9, 10]\n",
      "The list of even numbers is: [2, 4, 6, 8, 10]\n",
      "The list of odd numbers is: [1, 3, 5, 7, 9]\n"
     ]
    }
   ],
   "source": [
    "l=[]\n",
    "for i in range(10): x=int(input(f\"Enter {i+1} number: \")); l.append(x)\n",
    "l1=[]\n",
    "l2=[]\n",
    "for i in l:\n",
    "    if i%2==0: l1.append(i)\n",
    "    else: l2.append(i)\n",
    "print(\"The list is:\",l)\n",
    "print(\"The list of even numbers is:\",l1)\n",
    "print(\"The list of odd numbers is:\",l2)"
   ]
  },
  {
   "cell_type": "markdown",
   "metadata": {},
   "source": [
    "Q9.Accept a list containing 10 strings from the user. Write a Python program to convert all these strings to uppercase."
   ]
  },
  {
   "cell_type": "code",
   "execution_count": 19,
   "metadata": {},
   "outputs": [
    {
     "name": "stdout",
     "output_type": "stream",
     "text": [
      "The list is: ['hello', 'world', 'my', 'name ', 'is ', 'vs', 'code', 'and', 'i', 'code']\n",
      "The list of uppercase strings is: ['HELLO', 'WORLD', 'MY', 'NAME ', 'IS ', 'VS', 'CODE', 'AND', 'I', 'CODE']\n"
     ]
    }
   ],
   "source": [
    "l=[]\n",
    "for i in range(10): x=input(f\"Enter {i+1} string: \"); l.append(x)\n",
    "l1=[]\n",
    "for i in l: l1.append(i.upper())\n",
    "print(\"The list is:\",l)\n",
    "print(\"The list of uppercase strings is:\",l1)\n"
   ]
  },
  {
   "cell_type": "markdown",
   "metadata": {},
   "source": [
    "Q10. Write a function that checks whether two words are anagrams. Two words are anagrams if they contain the same letters. For example, silent and listen are anagrams. Hint: Obtain two lists for  the  two  strings.  Sort  the  lists  and  check  if  two  lists  are  identical.  Write  a  test  program  that prompts the user to enter two strings and, if they are anagrams, displays “it is an anagram”; otherwise displays “it is not an anagram”."
   ]
  },
  {
   "cell_type": "code",
   "execution_count": 28,
   "metadata": {},
   "outputs": [
    {
     "name": "stdout",
     "output_type": "stream",
     "text": [
      "listen and silent are anagrams\n"
     ]
    }
   ],
   "source": [
    "def anagram(str1,str2):\n",
    "    l1=list(str1.strip())\n",
    "    l2=list(str2.strip())\n",
    "    l1.sort()\n",
    "    l2.sort()\n",
    "    l3=set(l1)\n",
    "    l4=set(l2)\n",
    "    if l3==l4:\n",
    "        print(f\"{str1} and {str2} are anagrams\")\n",
    "    else:\n",
    "        print(f\"{str1} and {str2} are not anagrams\")\n",
    "\n",
    "str1=input(\"Enter first string: \")\n",
    "str2=input(\"Enter second string: \")\n",
    "anagram(str1,str2)"
   ]
  },
  {
   "cell_type": "markdown",
   "metadata": {},
   "source": [
    "Name: Hemant Kathuria<br>\n",
    "Class: BCA 3C<br>\n",
    "Enrollment No.: 15917702021"
   ]
  }
 ],
 "metadata": {
  "kernelspec": {
   "display_name": "Python 3 (ipykernel)",
   "language": "python",
   "name": "python3"
  },
  "language_info": {
   "codemirror_mode": {
    "name": "ipython",
    "version": 3
   },
   "file_extension": ".py",
   "mimetype": "text/x-python",
   "name": "python",
   "nbconvert_exporter": "python",
   "pygments_lexer": "ipython3",
   "version": "3.10.7"
  },
  "vscode": {
   "interpreter": {
    "hash": "a66f8d00d3d123911ed7c904d6179a309da76b45da50889379c4e5157a11582c"
   }
  }
 },
 "nbformat": 4,
 "nbformat_minor": 2
}
