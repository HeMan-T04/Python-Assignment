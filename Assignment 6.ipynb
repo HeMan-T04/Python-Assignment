{
 "cells": [
  {
   "cell_type": "markdown",
   "metadata": {},
   "source": [
    "## Assignment 6\n",
    "Q1.Write a Python program to remove duplicates from Dictionary."
   ]
  },
  {
   "cell_type": "code",
   "execution_count": 3,
   "metadata": {
    "scrolled": true
   },
   "outputs": [
    {
     "name": "stdout",
     "output_type": "stream",
     "text": [
      "Enter the number of elements:3\n",
      "Enter the key:1\n",
      "Enter the value:a\n",
      "Enter the key:2\n",
      "Enter the value:a\n",
      "Enter the key:3\n",
      "Enter the value:b\n",
      "Original Dictionary: {'1': 'a', '2': 'a', '3': 'b'}\n",
      "After removing duplicates:  {'1': 'a', '3': 'b'}\n"
     ]
    }
   ],
   "source": [
    "#Write a Python program to remove duplicates from Dictionary.\n",
    "d={}\n",
    "n=int(input(\"Enter the number of elements:\"))\n",
    "for i in range(1,n+1):\n",
    "    key=input(\"Enter the key:\")\n",
    "    value=input(\"Enter the value:\")\n",
    "    d[key]=value\n",
    "print(\"Original Dictionary:\",d)\n",
    "d1={}\n",
    "for i in d:\n",
    "    if d[i] not in d1.values():\n",
    "        d1[i]=d[i]\n",
    "print(\"After removing duplicates: \",d1)\n"
   ]
  },
  {
   "cell_type": "markdown",
   "metadata": {},
   "source": [
    "Q2.Write a Python program to combine two dictionaries adding values for common keys  "
   ]
  },
  {
   "cell_type": "code",
   "execution_count": 4,
   "metadata": {},
   "outputs": [
    {
     "name": "stdout",
     "output_type": "stream",
     "text": [
      "{'a': 400, 'b': 400, 'c': 300, 'd': 400}\n"
     ]
    }
   ],
   "source": [
    "d1={'a':100,'b':200,'c':300}\n",
    "d2={'a':300,'b':200,'d':400}\n",
    "d3={}\n",
    "for i in d1:\n",
    "    if i in d2:\n",
    "        d3[i]=d1[i]+d2[i]\n",
    "    else:\n",
    "        d3[i]=d1[i]\n",
    "for i in d2:\n",
    "    if i not in d1:\n",
    "        d3[i]=d2[i]\n",
    "print(d3)"
   ]
  },
  {
   "cell_type": "markdown",
   "metadata": {},
   "source": [
    "Q3.Write a program that defines a function large in a module which will be used to find larger of two values and called from code in another module."
   ]
  },
  {
   "cell_type": "code",
   "execution_count": 42,
   "metadata": {},
   "outputs": [
    {
     "name": "stdout",
     "output_type": "stream",
     "text": [
      "Mohandas Karamchand Gandhi\n"
     ]
    }
   ],
   "source": [
    "#Write a program that defines a function large in a module which will be used to find larger of two values and called from code in another module.\n"
   ]
  },
  {
   "cell_type": "markdown",
   "metadata": {},
   "source": [
    "4.Write a python program for dictionary of names of students and a list of their marks in 4 subjects.  create another dictionary from this dictionary that has name of the students and their total marks. find out the topper and his/her marks."
   ]
  },
  {
   "cell_type": "code",
   "execution_count": 1,
   "metadata": {},
   "outputs": [
    {
     "name": "stdout",
     "output_type": "stream",
     "text": [
      "Enter the number of students: 2\n",
      "Enter the name of the student: Hemant\n",
      "Enter the marks in four subjects of the student divided by space :\n",
      " 100 100 100 100\n",
      "Enter the name of the student: Chaitanya\n",
      "Enter the marks in four subjects of the student divided by space :\n",
      " 75 75 75 75\n",
      "The dictionary is: {'Hemant': [100, 100, 100, 100], 'Chaitanya': [75, 75, 75, 75]}\n",
      "The dictionary with total marks is: {'Hemant': 400, 'Chaitanya': 300}\n",
      "The topper is: Hemant with 400 marks\n"
     ]
    }
   ],
   "source": [
    "#write a python program for dictionary of names of students and a list of their marks in 4 subjects.  create another dictionary from this dictionary that has name of the students and their total marks. find out the topper and his/her marks.\n",
    "d={}\n",
    "n=int(input(\"Enter the number of students:\"))\n",
    "for i in range(1,n+1):\n",
    "    name=input(\"Enter the name of the student:\")\n",
    "    marks=list(map(int,input(\"Enter the marks in four subjects of the student divided by space :\\n\").split()))\n",
    "    d[name]=marks\n",
    "print(\"The dictionary is:\",d)\n",
    "d1={}\n",
    "for i in d:\n",
    "    d1[i]=sum(d[i])\n",
    "print(\"The dictionary with total marks is:\",d1)\n",
    "max=0\n",
    "for i in d1:\n",
    "    if d1[i]>max:\n",
    "        max=d1[i]\n",
    "        name=i\n",
    "print(\"The topper is:\",name,\"with\",max,\"marks\")\n"
   ]
  },
  {
   "cell_type": "markdown",
   "metadata": {},
   "source": [
    "Q5.Write a menu driven program to accept two strings from the user and perform the various functions using user defined functions.<br>Concatenate the vowels of both the strings.\n",
    "<br>Replace the middle three letters of the second string with the middle three letters of the first string."
   ]
  },
  {
   "cell_type": "code",
   "execution_count": 7,
   "metadata": {},
   "outputs": [
    {
     "name": "stdout",
     "output_type": "stream",
     "text": [
      "Enter the first string: hello\n",
      "Enter the second string: congratulations\n",
      "The concatenated string is: eooauaio\n",
      "The replaced string is: congratllotions\n"
     ]
    }
   ],
   "source": [
    "def concat(s1,s2):\n",
    "    s3=\"\"\n",
    "    for i in s1:\n",
    "        if i in \"aeiouAEIOU\":\n",
    "            s3=s3+i\n",
    "    for i in s2:\n",
    "        if i in \"aeiouAEIOU\":\n",
    "            s3=s3+i\n",
    "    return s3\n",
    "def replace(s1,s2):\n",
    "    s3=\"\"\n",
    "    n1=int(len(s1)/2)\n",
    "    n2=int(len(s2)/2)\n",
    "    s3=s2[0:n2]+s1[n1:(n1+3)]+s2[(n2+3):]\n",
    "    return s3\n",
    "s1=input(\"Enter the first string:\")\n",
    "s2=input(\"Enter the second string:\")\n",
    "print(\"The concatenated string is:\",concat(s1,s2))\n",
    "print(\"The replaced string is:\",replace(s1,s2))"
   ]
  },
  {
   "cell_type": "markdown",
   "metadata": {},
   "source": [
    "6.Write a python program to accept a string from user,   to find the frequency of each character with the help of dictionary."
   ]
  },
  {
   "cell_type": "code",
   "execution_count": 1,
   "metadata": {},
   "outputs": [
    {
     "name": "stdin",
     "output_type": "stream",
     "text": [
      "Enter the string: hello\n"
     ]
    },
    {
     "name": "stdout",
     "output_type": "stream",
     "text": [
      "The dictionary is: {'h': 1, 'e': 1, 'l': 2, 'o': 1}\n"
     ]
    }
   ],
   "source": [
    "#6.Write a python programto accept a string from user,to find the frequency of each character with the help of dictionary.\n",
    "s=input(\"Enter the string:\")\n",
    "d={}\n",
    "for i in s:\n",
    "    if i in d:\n",
    "        d[i]=d[i]+1\n",
    "    else:\n",
    "        d[i]=1\n",
    "print(\"The dictionary is:\",d)\n"
   ]
  },
  {
   "cell_type": "markdown",
   "metadata": {},
   "source": [
    "7.Python program to accept two tuples from the user and display all combinations of all elements in the form of tuple."
   ]
  },
  {
   "cell_type": "code",
   "execution_count": 2,
   "metadata": {},
   "outputs": [
    {
     "name": "stdin",
     "output_type": "stream",
     "text": [
      "Enter the elements of the first tuple separated by space:\n",
      " 1 2 3 4 6\n",
      "Enter the elements of the second tuple separated by space:\n",
      " 5 7 8 9 0\n"
     ]
    },
    {
     "name": "stdout",
     "output_type": "stream",
     "text": [
      "The list of tuples is: [(1, 5), (1, 7), (1, 8), (1, 9), (1, 0), (2, 5), (2, 7), (2, 8), (2, 9), (2, 0), (3, 5), (3, 7), (3, 8), (3, 9), (3, 0), (4, 5), (4, 7), (4, 8), (4, 9), (4, 0), (6, 5), (6, 7), (6, 8), (6, 9), (6, 0)]\n"
     ]
    }
   ],
   "source": [
    "#7.Python program to accept two tuples from the user and display all combinations of all elements in the form of tuple.\n",
    "t1=tuple(map(int,input(\"Enter the elements of the first tuple separated by space:\\n\").split()))\n",
    "t2=tuple(map(int,input(\"Enter the elements of the second tuple separated by space:\\n\").split()))    \n",
    "l=[]\n",
    "for i in t1:\n",
    "    for j in t2:\n",
    "        l.append((i,j))\n",
    "print(\"The list of tuples is:\",l)\n"
   ]
  },
  {
   "cell_type": "markdown",
   "metadata": {},
   "source": [
    "8.Write a Python Program for creatinga Dictionary for storing Books Details (Book Name, Edition, Author and Price) and find out the following details using dictionary methods<br>a.Sort details year wise (Edition)<br>b.Find out the name of author with the highest price.<br>c.Increase the price of the book (10%) with oldest edition."
   ]
  },
  {
   "cell_type": "code",
   "execution_count": 3,
   "metadata": {},
   "outputs": [
    {
     "name": "stdin",
     "output_type": "stream",
     "text": [
      "Enter the number of books: 2\n",
      "Enter the name of the book: Percy jackson\n",
      "Enter the edition of the book: 3\n",
      "Enter the name of the author: Rick Riordan\n",
      "Enter the price of the book: 300\n",
      "Enter the name of the book: Harry Potter\n",
      "Enter the edition of the book: 4\n",
      "Enter the name of the author: JK Rowling\n",
      "Enter the price of the book: 500\n"
     ]
    },
    {
     "name": "stdout",
     "output_type": "stream",
     "text": [
      "The dictionary is: {'Percy jackson': [3, 'Rick Riordan', 300], 'Harry Potter': [4, 'JK Rowling', 500]}\n",
      "The sorted dictionary is:\n",
      "Percy jackson [3, 'Rick Riordan', 300]\n",
      "Harry Potter [4, 'JK Rowling', 500]\n",
      "The author with the highest price is: JK Rowling\n",
      "The dictionary after increasing the price of the book with oldest edition is: {'Percy jackson': [3, 'Rick Riordan', 330.0], 'Harry Potter': [4, 'JK Rowling', 500]}\n"
     ]
    }
   ],
   "source": [
    "#8.Write a Python Program for creatinga Dictionary for storing Books Details (Book Name, Edition, Author and Price) and find out the following details using dictionary methodsa.Sort details year wise (Edition)b.Find out the name of author with the highest price.c.Increase the price of the book (10%) with oldest edition.\n",
    "d={}\n",
    "n=int(input(\"Enter the number of books:\"))\n",
    "for i in range(1,n+1):\n",
    "    name=input(\"Enter the name of the book:\")\n",
    "    edition=int(input(\"Enter the edition of the book:\"))\n",
    "    author=input(\"Enter the name of the author:\")\n",
    "    price=int(input(\"Enter the price of the book:\"))\n",
    "    d[name]=[edition,author,price]\n",
    "print(\"The dictionary is:\",d)\n",
    "l=[]\n",
    "for i in d:\n",
    "    l.append(d[i][0])\n",
    "l.sort()\n",
    "print(\"The sorted dictionary is:\")\n",
    "for i in l:\n",
    "    for j in d:\n",
    "        if d[j][0]==i:\n",
    "            print(j,d[j])\n",
    "max=0\n",
    "for i in d:\n",
    "    if d[i][2]>max:\n",
    "        max=d[i][2]\n",
    "        name=i\n",
    "print(\"The author with the highest price is:\",d[name][1])\n",
    "for i in d:\n",
    "    if d[i][0]==min(l):\n",
    "        d[i][2]=d[i][2]+(d[i][2]*10/100)\n",
    "print(\"The dictionary after increasing the price of the book with oldest edition is:\",d)"
   ]
  },
  {
   "cell_type": "markdown",
   "metadata": {},
   "source": [
    "9.Write a Python recursive/non-recursive function to calculate the factorial of a number (a non-negative integer). The function accepts the number as an argument."
   ]
  },
  {
   "cell_type": "code",
   "execution_count": 4,
   "metadata": {},
   "outputs": [
    {
     "name": "stdin",
     "output_type": "stream",
     "text": [
      "Enter the number: 10\n"
     ]
    },
    {
     "name": "stdout",
     "output_type": "stream",
     "text": [
      "The factorial of the number using recursive function is: 3628800\n",
      "The factorial of the number using math function is: 3628800\n"
     ]
    }
   ],
   "source": [
    "import math\n",
    "def recursive_factorial(n):\n",
    "    if n==0:\n",
    "        return 1\n",
    "    else:\n",
    "        return n*factorial(n-1)\n",
    "def factorial(n):\n",
    "    return math.factorial(n)\n",
    "n=int(input(\"Enter the number:\"))\n",
    "print(\"The factorial of the number using recursive function is:\",recursive_factorial(n))\n",
    "print(\"The factorial of the number using math function is:\",factorial(n))"
   ]
  },
  {
   "cell_type": "markdown",
   "metadata": {},
   "source": [
    "10.Write a Python function that takes a number as an argument and displays all prime numbers up to nth number."
   ]
  },
  {
   "cell_type": "code",
   "execution_count": 5,
   "metadata": {},
   "outputs": [
    {
     "name": "stdin",
     "output_type": "stream",
     "text": [
      "Enter the number: 10\n"
     ]
    },
    {
     "name": "stdout",
     "output_type": "stream",
     "text": [
      "The list of prime numbers till 10 is:[2, 3, 5, 7]\n"
     ]
    }
   ],
   "source": [
    "def prime(n):\n",
    "    for i in range(2,n):\n",
    "        if n%i==0:\n",
    "            return False\n",
    "    return True\n",
    "n=int(input(\"Enter the number:\"))\n",
    "l=[]\n",
    "for i in range(2,n+1):\n",
    "    if prime(i):\n",
    "        l.append(i)\n",
    "print(f\"The list of prime numbers till {n} is:{l}\")"
   ]
  },
  {
   "cell_type": "markdown",
   "metadata": {},
   "source": [
    "Name: Hemant Kathuria<br>\n",
    "Class: BCA 3C<br>\n",
    "Enrollment No.: 15917702021"
   ]
  }
 ],
 "metadata": {
  "kernelspec": {
   "display_name": "Python 3 (ipykernel)",
   "language": "python",
   "name": "python3"
  },
  "language_info": {
   "codemirror_mode": {
    "name": "ipython",
    "version": 3
   },
   "file_extension": ".py",
   "mimetype": "text/x-python",
   "name": "python",
   "nbconvert_exporter": "python",
   "pygments_lexer": "ipython3",
   "version": "3.10.4"
  },
  "vscode": {
   "interpreter": {
    "hash": "3ad933181bd8a04b432d3370b9dc3b0662ad032c4dfaa4e4f1596c548f763858"
   }
  }
 },
 "nbformat": 4,
 "nbformat_minor": 4
}
