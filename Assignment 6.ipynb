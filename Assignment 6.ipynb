{
 "cells": [
  {
   "cell_type": "markdown",
   "metadata": {},
   "source": [
    "## Assignment 6\n",
    "Q1.Write a Python program to remove duplicates from Dictionary."
   ]
  },
  {
   "cell_type": "code",
   "execution_count": 3,
   "metadata": {
    "scrolled": true
   },
   "outputs": [
    {
     "name": "stdout",
     "output_type": "stream",
     "text": [
      "Enter the number of elements:3\n",
      "Enter the key:1\n",
      "Enter the value:a\n",
      "Enter the key:2\n",
      "Enter the value:a\n",
      "Enter the key:3\n",
      "Enter the value:b\n",
      "Original Dictionary: {'1': 'a', '2': 'a', '3': 'b'}\n",
      "After removing duplicates:  {'1': 'a', '3': 'b'}\n"
     ]
    }
   ],
   "source": [
    "#Write a Python program to remove duplicates from Dictionary.\n",
    "d={}\n",
    "n=int(input(\"Enter the number of elements:\"))\n",
    "for i in range(1,n+1):\n",
    "    key=input(\"Enter the key:\")\n",
    "    value=input(\"Enter the value:\")\n",
    "    d[key]=value\n",
    "print(\"Original Dictionary:\",d)\n",
    "d1={}\n",
    "for i in d:\n",
    "    if d[i] not in d1.values():\n",
    "        d1[i]=d[i]\n",
    "print(\"After removing duplicates: \",d1)\n"
   ]
  },
  {
   "cell_type": "markdown",
   "metadata": {},
   "source": [
    "Q2.Write a Python program to combine two dictionaries adding values for common keys  "
   ]
  },
  {
   "cell_type": "code",
   "execution_count": 4,
   "metadata": {},
   "outputs": [
    {
     "name": "stdout",
     "output_type": "stream",
     "text": [
      "{'a': 400, 'b': 400, 'c': 300, 'd': 400}\n"
     ]
    }
   ],
   "source": [
    "d1={'a':100,'b':200,'c':300}\n",
    "d2={'a':300,'b':200,'d':400}\n",
    "d3={}\n",
    "for i in d1:\n",
    "    if i in d2:\n",
    "        d3[i]=d1[i]+d2[i]\n",
    "    else:\n",
    "        d3[i]=d1[i]\n",
    "for i in d2:\n",
    "    if i not in d1:\n",
    "        d3[i]=d2[i]\n",
    "print(d3)"
   ]
  },
  {
   "cell_type": "markdown",
   "metadata": {},
   "source": [
    "Q3.Write a program that defines a function large in a module which will be used to find larger of two values and called from code in another module."
   ]
  },
  {
   "cell_type": "code",
   "execution_count": 42,
   "metadata": {},
   "outputs": [
    {
     "name": "stdout",
     "output_type": "stream",
     "text": [
      "Mohandas Karamchand Gandhi\n"
     ]
    }
   ],
   "source": [
    "#Write a program that defines a function large in a module which will be used to find larger of two values and called from code in another module.\n"
   ]
  },
  {
   "cell_type": "markdown",
   "metadata": {},
   "source": [
    "4.Write a python program for dictionary of names of students and a list of their marks in 4 subjects.  create another dictionary from this dictionary that has name of the students and their total marks. find out the topper and his/her marks."
   ]
  },
  {
   "cell_type": "code",
   "execution_count": 1,
   "metadata": {},
   "outputs": [
    {
     "name": "stdout",
     "output_type": "stream",
     "text": [
      "Enter the number of students: 2\n",
      "Enter the name of the student: Hemant\n",
      "Enter the marks in four subjects of the student divided by space :\n",
      " 100 100 100 100\n",
      "Enter the name of the student: Chaitanya\n",
      "Enter the marks in four subjects of the student divided by space :\n",
      " 75 75 75 75\n",
      "The dictionary is: {'Hemant': [100, 100, 100, 100], 'Chaitanya': [75, 75, 75, 75]}\n",
      "The dictionary with total marks is: {'Hemant': 400, 'Chaitanya': 300}\n",
      "The topper is: Hemant with 400 marks\n"
     ]
    }
   ],
   "source": [
    "#write a python program for dictionary of names of students and a list of their marks in 4 subjects.  create another dictionary from this dictionary that has name of the students and their total marks. find out the topper and his/her marks.\n",
    "d={}\n",
    "n=int(input(\"Enter the number of students:\"))\n",
    "for i in range(1,n+1):\n",
    "    name=input(\"Enter the name of the student:\")\n",
    "    marks=list(map(int,input(\"Enter the marks in four subjects of the student divided by space :\\n\").split()))\n",
    "    d[name]=marks\n",
    "print(\"The dictionary is:\",d)\n",
    "d1={}\n",
    "for i in d:\n",
    "    d1[i]=sum(d[i])\n",
    "print(\"The dictionary with total marks is:\",d1)\n",
    "max=0\n",
    "for i in d1:\n",
    "    if d1[i]>max:\n",
    "        max=d1[i]\n",
    "        name=i\n",
    "print(\"The topper is:\",name,\"with\",max,\"marks\")\n"
   ]
  },
  {
   "cell_type": "markdown",
   "metadata": {},
   "source": [
    "Q5.Write a menu driven program to accept two strings from the user and perform the various functions using user defined functions.<br>Concatenate the vowels of both the strings.\n",
    "<br>Replace the middle three letters of the second string with the middle three letters of the first string."
   ]
  },
  {
   "cell_type": "code",
   "execution_count": 7,
   "metadata": {},
   "outputs": [
    {
     "name": "stdin",
     "output_type": "stream",
     "text": [
      "Enter the first string: hello\n",
      "Enter the second string: congratulations\n"
     ]
    },
    {
     "name": "stdout",
     "output_type": "stream",
     "text": [
      "The concatenated string is: eooauaio\n",
      "The replaced string is: congratllotions\n"
     ]
    }
   ],
   "source": [
    "def concat(s1,s2):\n",
    "    s3=\"\"\n",
    "    for i in s1:\n",
    "        if i in \"aeiouAEIOU\":\n",
    "            s3=s3+i\n",
    "    for i in s2:\n",
    "        if i in \"aeiouAEIOU\":\n",
    "            s3=s3+i\n",
    "    return s3\n",
    "def replace(s1,s2):\n",
    "    s3=\"\"\n",
    "    n1=int(len(s1)/2)\n",
    "    n2=int(len(s2)/2)\n",
    "    s3=s2[0:n2]+s1[n1:(n1+3)]+s2[(n2+3):]\n",
    "    return s3\n",
    "s1=input(\"Enter the first string:\")\n",
    "s2=input(\"Enter the second string:\")\n",
    "print(\"The concatenated string is:\",concat(s1,s2))\n",
    "print(\"The replaced string is:\",replace(s1,s2))"
   ]
  },
  {
   "cell_type": "markdown",
   "metadata": {},
   "source": [
    "6.Write a python programto accept a string from user,   to find the frequency of each character with the help of dictionary."
   ]
  },
  {
   "cell_type": "code",
   "execution_count": 45,
   "metadata": {},
   "outputs": [
    {
     "name": "stdout",
     "output_type": "stream",
     "text": [
      "[50, 70, 30, 20, 90, 10, 50, 8, 9]\n",
      "[30, 20, 90, 10, 50, 8, 9]\n",
      "[70, 30, 20, 90]\n",
      "[20, 10, 8]\n",
      "[50, 30, 90, 50, 9]\n",
      "[9, 50, 90, 30]\n"
     ]
    }
   ],
   "source": [
    "Lst=[50,70,30,20,90,10,50,8,9]\n",
    "print(Lst[::],Lst[-7::1],Lst[1:5],Lst[3:9:2],Lst[::2],Lst[:1:-2],sep=\"\\n\")"
   ]
  },
  {
   "cell_type": "markdown",
   "metadata": {},
   "source": [
    "Q7. Make a tuple tuplex=(2,4,3,5,4,6,7,8,6,1) and perform following slicing operations on it.<br>a) tuplex[3:5]<br>b) tuplex[:6]<br>c) tuplex[5:]<br>d) tuplex[:]<br>e) tuplex[-8:-4]<br>f) tuplex[2:2:2]"
   ]
  },
  {
   "cell_type": "code",
   "execution_count": 46,
   "metadata": {},
   "outputs": [
    {
     "name": "stdout",
     "output_type": "stream",
     "text": [
      "(5, 4)\n",
      "(2, 4, 3, 5, 4, 6)\n",
      "(6, 7, 8, 6, 1)\n",
      "(2, 4, 3, 5, 4, 6, 7, 8, 6, 1)\n",
      "(3, 5, 4, 6)\n",
      "()\n"
     ]
    }
   ],
   "source": [
    "tuplex=(2,4,3,5,4,6,7,8,6,1)\n",
    "print(tuplex[3:5],tuplex[:6],tuplex[5:],tuplex[:],tuplex[-8:-4],tuplex[2:2:2],sep=\"\\n\")"
   ]
  },
  {
   "cell_type": "markdown",
   "metadata": {},
   "source": [
    "Q8. Make a tuple tupley=(\"HELLO WORLD\") and perform the following slicing operations on it.<br>a) tupley[2:9:2]<br>b) tupley[::4]<br>c) tupley[9:2:-4]<br>d) tupley[3:5]<br>e) tupley[:6]<br>f) tupley[5:]"
   ]
  },
  {
   "cell_type": "code",
   "execution_count": 47,
   "metadata": {},
   "outputs": [
    {
     "name": "stdout",
     "output_type": "stream",
     "text": [
      "LOWR\n",
      "HOR\n",
      "L \n",
      "LO\n",
      "HELLO \n",
      " WORLD\n"
     ]
    }
   ],
   "source": [
    "tupley=(\"HELLO WORLD\")\n",
    "print(tupley[2:9:2],tupley[::4],tupley[9:2:-4],tupley[3:5],tupley[:6],tupley[5:],sep=\"\\n\")"
   ]
  },
  {
   "cell_type": "markdown",
   "metadata": {},
   "source": [
    "Q9. Make a dictionary dict1={1:2,2:3,3:4,4:5,5:6,6:7,7:1} and perform the following:<br>dict1[dict1[3]]"
   ]
  },
  {
   "cell_type": "code",
   "execution_count": 48,
   "metadata": {},
   "outputs": [
    {
     "name": "stdout",
     "output_type": "stream",
     "text": [
      "5\n"
     ]
    }
   ],
   "source": [
    "dict1={1:2,2:3,3:4,4:5,5:6,6:7,7:1}\n",
    "print(dict1[dict1[3]])"
   ]
  },
  {
   "cell_type": "markdown",
   "metadata": {},
   "source": [
    "Q10. Make a program to display all escape sequences<br>\n",
    "<table>\n",
    "<tr>\n",
    "<th>Escape</th>\n",
    "<th>Meaning</th>\n",
    "</tr>\n",
    "<tr>\n",
    "<td>\\</td>             \n",
    "<td>newline Ignored (continuation line)</td>\n",
    "</tr>\n",
    "<tr>\n",
    "<td>\\\\</td>            \n",
    "<td>Backslash (stores one \\)</td>\n",
    "</tr>\n",
    "<tr>\n",
    "<td>\\'</td> \n",
    "<td>Single quote (stores ')</td>\n",
    "</tr>\n",
    "<tr>\n",
    "<td>\\\"</td> \n",
    "<td>Double quote (stores \")</td>\n",
    "</tr>\n",
    "<tr>\n",
    "<td>\\b</td> \n",
    "<td>Backspace</td>\n",
    "</tr>\n",
    "<tr>\n",
    "<td>\\n</td> \n",
    "<td>Newline (linefeed)</td>\n",
    "</tr>\n",
    "<tr>\n",
    "<td>\\r</td> <td>Carriage return</td>\n",
    "</tr>\n",
    "<tr>\n",
    "<td>\\t </td><td>Horizontal tab</td>\n",
    "</tr>\n",
    "<tr>\n",
    "<td>\\v</td><td>Vertical tab</td>\n",
    "</tr>\n",
    "<tr>\n",
    "<td>\\ooo</td>\n",
    "<td>Octal Value</td>\n",
    "</tr>\n",
    "<tr>\n",
    "<td>\\xhh</td><td>Hexadecimal Value</td>\n",
    "</tr></table>"
   ]
  },
  {
   "cell_type": "code",
   "execution_count": 49,
   "metadata": {},
   "outputs": [
    {
     "name": "stdout",
     "output_type": "stream",
     "text": [
      "Hello World!!\n",
      "Hello \\World!!\n",
      "'Hello World!!'\n",
      "\"Hello World!!\"\n",
      "HelloWorld!!\n",
      "ld!!o Wor\n",
      "Hello\tWorld!!\n",
      "Hello\u000b",
      "\n",
      "\n",
      "\n",
      "\n",
      "World!!\n",
      "Octal\n",
      "Hexadecimal\n"
     ]
    }
   ],
   "source": [
    "str1=\"Hello \\\n",
    "World!!\"\n",
    "str2=\"Hello \\\\World!!\"\n",
    "str3=\"\\'Hello World!!\\'\"\n",
    "str4=\"\\\"Hello World!!\\\"\"\n",
    "str5=\"Hello \\bWorld!!\"\n",
    "str6=\"Hello Wor\\rld!!\"\n",
    "str7=\"Hello\\tWorld!!\"\n",
    "str8=\"Hello\\vWorld!!\"\n",
    "str9=\"\\117\\143\\164\\141\\154\"\n",
    "str10=\"\\x48\\x65\\x78\\x61\\x64\\x65\\x63\\x69\\x6D\\x61\\x6C\"\n",
    "print(str1,str2,str3,str4,str5,str6,str7,str8,str9,str10,sep=\"\\n\")\n"
   ]
  },
  {
   "cell_type": "markdown",
   "metadata": {},
   "source": [
    "Name: Hemant Kathuria<br>\n",
    "Class: BCA 3C<br>\n",
    "Enrollment No.: 15917702021"
   ]
  }
 ],
 "metadata": {
  "kernelspec": {
   "display_name": "Python 3 (ipykernel)",
   "language": "python",
   "name": "python3"
  },
  "language_info": {
   "codemirror_mode": {
    "name": "ipython",
    "version": 3
   },
   "file_extension": ".py",
   "mimetype": "text/x-python",
   "name": "python",
   "nbconvert_exporter": "python",
   "pygments_lexer": "ipython3",
   "version": "3.10.4"
  },
  "vscode": {
   "interpreter": {
    "hash": "3ad933181bd8a04b432d3370b9dc3b0662ad032c4dfaa4e4f1596c548f763858"
   }
  }
 },
 "nbformat": 4,
 "nbformat_minor": 4
}
