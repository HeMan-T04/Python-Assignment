{
 "cells": [
  {
   "cell_type": "code",
   "execution_count": 2,
   "metadata": {},
   "outputs": [
    {
     "name": "stdout",
     "output_type": "stream",
     "text": [
      "No. of Upper case characters :  1\n",
      "No. of Lower case Characters :  4\n"
     ]
    }
   ],
   "source": [
    "#Q1\n",
    "def check(s):\n",
    "    u,l=0,0\n",
    "    for i in s:\n",
    "        if i.isupper():\n",
    "            u+=1\n",
    "        elif i.islower():\n",
    "            l+=1\n",
    "    print(\"No. of Upper case characters : \",u)\n",
    "    print(\"No. of Lower case Characters : \",l)\n",
    "s=str(input(\"Enter the String: \"))\n",
    "check(s)"
   ]
  },
  {
   "cell_type": "code",
   "execution_count": 3,
   "metadata": {},
   "outputs": [
    {
     "name": "stdout",
     "output_type": "stream",
     "text": [
      "first array: [1. 1. 1. 1. 1.]\n",
      "second array: [10. 10. 10. 10. 10.]\n",
      "sum of two arrays: [11. 11. 11. 11. 11.]\n"
     ]
    }
   ],
   "source": [
    "#Q2\n",
    "import numpy as np\n",
    "a=np.ones(5)\n",
    "b=np.ones(5)*10\n",
    "c=a+b\n",
    "print(f\"first array: {a}\\nsecond array: {b}\\nsum of two arrays: {c}\")"
   ]
  },
  {
   "cell_type": "code",
   "execution_count": 6,
   "metadata": {},
   "outputs": [
    {
     "name": "stdout",
     "output_type": "stream",
     "text": [
      "List:  [2, 3, 4, 5, 9, 7, 1]\n",
      "Second largest number is 7\n"
     ]
    }
   ],
   "source": [
    "#Q3\n",
    "l=list(map(int,input(\"Enter the list(seperated by space): \").split(\" \")))\n",
    "print(\"List: \",l)\n",
    "l.sort()\n",
    "print(f\"Second largest number is {l[-2]}\")"
   ]
  }
 ],
 "metadata": {
  "kernelspec": {
   "display_name": "Python 3",
   "language": "python",
   "name": "python3"
  },
  "language_info": {
   "codemirror_mode": {
    "name": "ipython",
    "version": 3
   },
   "file_extension": ".py",
   "mimetype": "text/x-python",
   "name": "python",
   "nbconvert_exporter": "python",
   "pygments_lexer": "ipython3",
   "version": "3.10.4"
  },
  "orig_nbformat": 4,
  "vscode": {
   "interpreter": {
    "hash": "3ad933181bd8a04b432d3370b9dc3b0662ad032c4dfaa4e4f1596c548f763858"
   }
  }
 },
 "nbformat": 4,
 "nbformat_minor": 2
}
